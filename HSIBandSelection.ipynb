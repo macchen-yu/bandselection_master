{
 "cells": [
  {
   "cell_type": "markdown",
   "metadata": {
    "id": "4zDnCDaKUoqP"
   },
   "source": [
    "# Hyperspectral Band Selection\n",
    "\n",
    "In this notebook, we'll demonstrate how to use our Inter-band redundancy method (IBRA) and the [Greedy Spectral Selection](https://www.mdpi.com/2072-4292/13/18/3649) (GSS) for hyperspectral band selection. IBRA can also be used in combination with Principal Component Analysis (PCA) and Partial Least Squares (PLS) for dimensionality reduction.\n",
    "\n",
    "## Installation\n",
    "\n",
    "Execute `!pip install git+https://github.com/NISL-MSU/HSI-BandSelection`\n",
    "\n"
   ]
  },
  {
   "metadata": {},
   "cell_type": "markdown",
   "source": ""
  },
  {
   "metadata": {
    "ExecuteTime": {
     "end_time": "2024-09-10T05:15:14.184221Z",
     "start_time": "2024-09-10T05:15:10.495770Z"
    }
   },
   "cell_type": "code",
   "source": [
    "import torch\n",
    "torch.cuda.is_available()"
   ],
   "outputs": [
    {
     "data": {
      "text/plain": [
       "True"
      ]
     },
     "execution_count": 1,
     "metadata": {},
     "output_type": "execute_result"
    }
   ],
   "execution_count": 1
  },
  {
   "cell_type": "code",
   "metadata": {
    "colab": {
     "base_uri": "https://localhost:8080/"
    },
    "id": "LpT8OosiUk4q",
    "outputId": "5d905535-060f-48b8-b37d-d98f7d43ec05",
    "ExecuteTime": {
     "end_time": "2024-09-10T05:15:14.199925Z",
     "start_time": "2024-09-10T05:15:14.184221Z"
    }
   },
   "source": [
    "# !pip install -q git+https://github.com/NISL-MSU/HSI-BandSelection\n",
    "import warnings\n",
    "warnings.filterwarnings(\"ignore\")"
   ],
   "outputs": [],
   "execution_count": 2
  },
  {
   "cell_type": "markdown",
   "metadata": {
    "id": "PAvo_sJuVH5o"
   },
   "source": [
    "## Load your data\n",
    "\n",
    "You can bring your own HSI classification dataset. Format the input data as a set of image data cubes of shape $(N, w, h, b)$, where $N$ is the number of data cubes, $w$ and $h$ are the width and the height of the cubes, and $b$ is the number of spectral bands. You could use the `createImageCubes` method, provided [here](https://github.com/NISL-MSU/HSI-BandSelection/blob/master/src/HSIBandSelection/readSAT.py#L47), as a reference to format your data.\n",
    "\n",
    "In this example, we will load the Indian Pines dataset, which is an image with shape `(145, 145, 200)`."
   ]
  },
  {
   "cell_type": "code",
   "metadata": {
    "colab": {
     "base_uri": "https://localhost:8080/"
    },
    "id": "D-Hgf37-VG98",
    "outputId": "c686c513-ab52-4a12-90c2-0099afe449b3",
    "ExecuteTime": {
     "end_time": "2024-09-10T05:15:18.336658Z",
     "start_time": "2024-09-10T05:15:14.199925Z"
    }
   },
   "source": [
    "from HSIBandSelection.readSAT import loadata, createImageCubes\n",
    "# X, Y = loadata(name='IP')\n",
    "X, Y = loadata(name='SA')\n",
    "print('Initial image shape: ' + str(X.shape))\n",
    "\n",
    "X, Y = createImageCubes(X, Y, window=5)\n",
    "print('Processed dataset shape: ' + str(X.shape))"
   ],
   "outputs": [
    {
     "name": "stdout",
     "output_type": "stream",
     "text": [
      "Initial image shape: (512, 217, 204)\n",
      "Processed dataset shape: (54129, 5, 5, 204)\n"
     ]
    }
   ],
   "execution_count": 3
  },
  {
   "cell_type": "markdown",
   "metadata": {
    "id": "xy57K-xukuWw"
   },
   "source": [
    "In this case, we loaded a HS image saved in our package. It doesn't matter where you bring the data from, you only need to provide the $X$ (input data) and $Y$ (target labels) matrices. In addition, assign your dataset a name; otherwise, it will be called `temp`. With these three elements, we create a data object:"
   ]
  },
  {
   "cell_type": "code",
   "metadata": {
    "id": "AbDs3T5YlVhK",
    "ExecuteTime": {
     "end_time": "2024-09-10T05:15:20.090928Z",
     "start_time": "2024-09-10T05:15:18.336658Z"
    }
   },
   "source": [
    "from HSIBandSelection.utils import Dataset\n",
    "# dataset = Dataset(train_x=X, train_y=Y, name='IP')\n",
    "dataset = Dataset(train_x=X, train_y=Y, name='SA')"
   ],
   "outputs": [],
   "execution_count": 4
  },
  {
   "cell_type": "markdown",
   "metadata": {
    "id": "HSWSjz_6nKRv"
   },
   "source": [
    "## Execute the Band Selection / Dimensionality Reduction Algorithm\n",
    "\n",
    "We'll use the `SelectBands` class. **Parameters**:\n",
    "\n",
    "*   `dataset`: utils.Dataset object\n",
    "*   `method`: Method name. Options: 'IBRA', 'GSS' (IBRA+GSS), 'PCA' (IBRA+PCA), and 'PLS' (IBRA+PLS)\n",
    "*   `classifier`: Classifier type. Options: 'CNN' (if data is 2D), 'ANN', 'RF', 'SVM'. *Default:* 'CNN'\n",
    "*   `nbands`: How many spectral bands you want to select or reduce to. *Default:* 5\n",
    "*   `transform`: If True, the final selected bands will suffer a Gaussian transformation to simulate being a multispectral band. *Default:* False\n",
    "*   `average`: If True, average consecutive bands to reduce the initial total # of bands to half. *Default:* False\n",
    "*   `epochs`: Number of iterations used to train the NN models. *Default:* 150\n",
    "*   `batch_size`: Batch size used to train the NN models. *Default:* 128\n",
    "*   `scratch`: If True, execute the IBRA process from scratch and replace previously saved results. *Default:* True\n",
    "\n",
    "\n",
    "\n",
    "\n",
    "\n",
    "\n",
    "\n",
    "\n",
    "\n",
    "\n"
   ]
  },
  {
   "metadata": {},
   "cell_type": "markdown",
   "source": ""
  },
  {
   "cell_type": "code",
   "metadata": {
    "id": "6spOOMfK0sgn",
    "ExecuteTime": {
     "end_time": "2024-09-10T05:15:48.417807Z",
     "start_time": "2024-09-10T05:15:20.090928Z"
    }
   },
   "source": [
    "from HSIBandSelection.SelectBands import SelectBands\n",
    "selector = SelectBands(dataset=dataset, method='GSS', nbands=5)\n",
    "print('Selected bands: ' + str(selector))"
   ],
   "outputs": [
    {
     "name": "stdout",
     "output_type": "stream",
     "text": [
      "Selected bands: <HSIBandSelection.SelectBands.SelectBands object at 0x0000016A4B22BA90>\n"
     ]
    }
   ],
   "execution_count": 5
  },
  {
   "cell_type": "markdown",
   "metadata": {
    "id": "1nFxKPiL0sym"
   },
   "source": [
    "From the SelectBands class, we call the `run_selection` method. **Parameters**:\n",
    "\n",
    "*   `init_vf`: Initial Variance Inflation Factor threshold (used for IBRA). *Default: 12*\n",
    "*   `final_vf`: Final Variance Inflation Factor threshold (used for IBRA). *Default: 5*\n",
    "\n",
    "\n",
    "\n",
    "**Return**:\n",
    "\n",
    "If the selected method is IBRA:\n",
    "\n",
    "*   `VIF_best`: The VIF threshold at which the best results were obtained\n",
    "*   `IBRA_best`: The best pre-selected bands using Iner-band redundancy\n",
    "*   `stats_best`: The best performance metric values obtained after 5x2 CV using the selected bands\n",
    "\n",
    "If the selected method is GSS:\n",
    "\n",
    "*   `VIF_best`: The VIF threshold at which the best results were obtained\n",
    "*   `IBRA_best`: The best pre-selected bands using Iner-band redundancy\n",
    "*   `GSS_best`: The best combination of bands obtained using GSS\n",
    "*   `stats_best`: The best performance metric values obtained after 5x2 CV using the selected bands\n",
    "\n",
    "If the selected method is PCA or PLS:\n",
    "\n",
    "*   `VIF_best`: The VIF threshold at which the best results were obtained\n",
    "*   `IBRA_best`: The best pre-selected bands using Iner-band redundancy\n",
    "*   `reduced_dataset`: The reduced dataset after applying PCA or PLS to the pre-selected bands\n",
    "*   `stats_best`: The best performance metric values obtained after 5x2 CV using the reduced bands\n",
    "\n",
    "**IMPORTANT**: This code is implemented using Pytorch. If you're running this on Google Colab, change the runtime type to GPU to accelerate the training process!"
   ]
  },
  {
   "cell_type": "code",
   "metadata": {
    "colab": {
     "base_uri": "https://localhost:8080/",
     "height": 391
    },
    "id": "jmC_oR_f0tBO",
    "outputId": "872c7180-4ba3-490a-f6f3-23038798452b",
    "ExecuteTime": {
     "end_time": "2024-09-10T05:16:34.073414Z",
     "start_time": "2024-09-10T05:15:48.417807Z"
    }
   },
   "source": [
    "VIF_best, IBRA_best, GSS_best, stats_best =selector.run_selection(init_vf=11, final_vf=9)"
   ],
   "outputs": [
    {
     "name": "stdout",
     "output_type": "stream",
     "text": [
      "*************************************\n",
      "Testing VIF threshold: 11\n",
      "*************************************\n",
      "Selecting bands:  [2, 17, 22, 28, 37, 60, 63, 91, 104, 106, 127, 147, 175, 202]\n",
      "Executing IBRA + GSS (Greddy Spectral Selection)\n",
      "\tAnalyzing candidate combination 1. 5x2 CV using bands: [22, 28, 37, 60, 63]\n"
     ]
    },
    {
     "name": "stderr",
     "output_type": "stream",
     "text": [
      "  0%|          | 0/10 [00:41<?, ?it/s]\n"
     ]
    },
    {
     "ename": "KeyboardInterrupt",
     "evalue": "",
     "output_type": "error",
     "traceback": [
      "\u001B[1;31m---------------------------------------------------------------------------\u001B[0m",
      "\u001B[1;31mKeyboardInterrupt\u001B[0m                         Traceback (most recent call last)",
      "Cell \u001B[1;32mIn[6], line 1\u001B[0m\n\u001B[1;32m----> 1\u001B[0m VIF_best, IBRA_best, GSS_best, stats_best \u001B[38;5;241m=\u001B[39m\u001B[43mselector\u001B[49m\u001B[38;5;241;43m.\u001B[39;49m\u001B[43mrun_selection\u001B[49m\u001B[43m(\u001B[49m\u001B[43minit_vf\u001B[49m\u001B[38;5;241;43m=\u001B[39;49m\u001B[38;5;241;43m11\u001B[39;49m\u001B[43m,\u001B[49m\u001B[43m \u001B[49m\u001B[43mfinal_vf\u001B[49m\u001B[38;5;241;43m=\u001B[39;49m\u001B[38;5;241;43m9\u001B[39;49m\u001B[43m)\u001B[49m\n",
      "File \u001B[1;32m~\\PycharmProjects\\HSI-BandSelection-master\\src\\HSIBandSelection\\SelectBands.py:108\u001B[0m, in \u001B[0;36mSelectBands.run_selection\u001B[1;34m(self, init_vf, final_vf)\u001B[0m\n\u001B[0;32m    106\u001B[0m GSSindexes \u001B[38;5;241m=\u001B[39m \u001B[38;5;28;01mNone\u001B[39;00m\n\u001B[0;32m    107\u001B[0m \u001B[38;5;28;01mif\u001B[39;00m \u001B[38;5;28mself\u001B[39m\u001B[38;5;241m.\u001B[39mmethod \u001B[38;5;241m==\u001B[39m \u001B[38;5;124m'\u001B[39m\u001B[38;5;124mGSS\u001B[39m\u001B[38;5;124m'\u001B[39m:\n\u001B[1;32m--> 108\u001B[0m     GSSindexes, entr \u001B[38;5;241m=\u001B[39m \u001B[43mnet\u001B[49m\u001B[38;5;241;43m.\u001B[39;49m\u001B[43mselection\u001B[49m\u001B[43m(\u001B[49m\u001B[43mselect\u001B[49m\u001B[38;5;241;43m=\u001B[39;49m\u001B[38;5;28;43mself\u001B[39;49m\u001B[38;5;241;43m.\u001B[39;49m\u001B[43mnbands\u001B[49m\u001B[43m)\u001B[49m\n\u001B[0;32m    109\u001B[0m     new_dataset \u001B[38;5;241m=\u001B[39m process_data(\u001B[38;5;28mself\u001B[39m\u001B[38;5;241m.\u001B[39mdataset, selection\u001B[38;5;241m=\u001B[39mGSSindexes, flag_average\u001B[38;5;241m=\u001B[39m\u001B[38;5;28;01mFalse\u001B[39;00m,\n\u001B[0;32m    110\u001B[0m                                transform\u001B[38;5;241m=\u001B[39m\u001B[38;5;28mself\u001B[39m\u001B[38;5;241m.\u001B[39mtransform)\n\u001B[0;32m    111\u001B[0m \u001B[38;5;28;01melse\u001B[39;00m:\n",
      "File \u001B[1;32m~\\PycharmProjects\\HSI-BandSelection-master\\src\\HSIBandSelection\\TrainSelection.py:284\u001B[0m, in \u001B[0;36mTrainSelection.selection\u001B[1;34m(self, select)\u001B[0m\n\u001B[0;32m    282\u001B[0m ct \u001B[38;5;241m=\u001B[39m \u001B[38;5;241m1\u001B[39m\n\u001B[0;32m    283\u001B[0m \u001B[38;5;28mprint\u001B[39m(\u001B[38;5;124m\"\u001B[39m\u001B[38;5;130;01m\\t\u001B[39;00m\u001B[38;5;124mAnalyzing candidate combination \u001B[39m\u001B[38;5;124m\"\u001B[39m \u001B[38;5;241m+\u001B[39m \u001B[38;5;28mstr\u001B[39m(ct) \u001B[38;5;241m+\u001B[39m \u001B[38;5;124m\"\u001B[39m\u001B[38;5;124m. 5x2 CV using bands: \u001B[39m\u001B[38;5;124m\"\u001B[39m \u001B[38;5;241m+\u001B[39m \u001B[38;5;28mstr\u001B[39m(selection))\n\u001B[1;32m--> 284\u001B[0m f1base \u001B[38;5;241m=\u001B[39m \u001B[38;5;28;43mself\u001B[39;49m\u001B[38;5;241;43m.\u001B[39;49m\u001B[43mtune\u001B[49m\u001B[43m(\u001B[49m\u001B[43mselection\u001B[49m\u001B[38;5;241;43m=\u001B[39;49m\u001B[43mselection\u001B[49m\u001B[43m)\u001B[49m\n\u001B[0;32m    285\u001B[0m \u001B[38;5;28mprint\u001B[39m(\u001B[38;5;124m\"\u001B[39m\u001B[38;5;130;01m\\t\u001B[39;00m\u001B[38;5;124mMean F1: \u001B[39m\u001B[38;5;124m\"\u001B[39m \u001B[38;5;241m+\u001B[39m \u001B[38;5;28mstr\u001B[39m(f1base))\n\u001B[0;32m    286\u001B[0m bestselection \u001B[38;5;241m=\u001B[39m selection\u001B[38;5;241m.\u001B[39mcopy()\n",
      "File \u001B[1;32m~\\PycharmProjects\\HSI-BandSelection-master\\src\\HSIBandSelection\\TrainSelection.py:350\u001B[0m, in \u001B[0;36mTrainSelection.tune\u001B[1;34m(self, selection)\u001B[0m\n\u001B[0;32m    348\u001B[0m filepath \u001B[38;5;241m=\u001B[39m \u001B[38;5;28mself\u001B[39m\u001B[38;5;241m.\u001B[39mdata \u001B[38;5;241m+\u001B[39m \u001B[38;5;124m\"\u001B[39m\u001B[38;5;124m//results//\u001B[39m\u001B[38;5;124m\"\u001B[39m \u001B[38;5;241m+\u001B[39m \u001B[38;5;28mself\u001B[39m\u001B[38;5;241m.\u001B[39mmethod \u001B[38;5;241m+\u001B[39m \u001B[38;5;124m\"\u001B[39m\u001B[38;5;124m//temp2\u001B[39m\u001B[38;5;124m\"\u001B[39m\n\u001B[0;32m    349\u001B[0m \u001B[38;5;66;03m# Train the model using the current training-validation split\u001B[39;00m\n\u001B[1;32m--> 350\u001B[0m \u001B[43mmodels\u001B[49m\u001B[38;5;241;43m.\u001B[39;49m\u001B[43mtrainFold\u001B[49m\u001B[43m(\u001B[49m\u001B[43mtrainxn\u001B[49m\u001B[43m,\u001B[49m\u001B[43m \u001B[49m\u001B[38;5;28;43mself\u001B[39;49m\u001B[38;5;241;43m.\u001B[39;49m\u001B[43mtrain_y\u001B[49m\u001B[43m,\u001B[49m\u001B[43m \u001B[49m\u001B[43mtrain\u001B[49m\u001B[43m,\u001B[49m\u001B[43m \u001B[49m\u001B[38;5;28;43mself\u001B[39;49m\u001B[38;5;241;43m.\u001B[39;49m\u001B[43mbatch_size\u001B[49m\u001B[43m,\u001B[49m\u001B[43m \u001B[49m\u001B[38;5;241;43m100\u001B[39;49m\u001B[43m,\u001B[49m\u001B[43m \u001B[49m\u001B[43mvalx\u001B[49m\u001B[43m,\u001B[49m\u001B[43m \u001B[49m\u001B[43mtest\u001B[49m\u001B[43m,\u001B[49m\u001B[43m \u001B[49m\u001B[43mmeans\u001B[49m\u001B[43m,\u001B[49m\u001B[43m \u001B[49m\u001B[43mstds\u001B[49m\u001B[43m,\u001B[49m\u001B[43m \u001B[49m\u001B[43mfilepath\u001B[49m\u001B[43m,\u001B[49m\u001B[43m \u001B[49m\u001B[38;5;28;43;01mFalse\u001B[39;49;00m\u001B[43m)\u001B[49m\n\u001B[0;32m    351\u001B[0m \u001B[38;5;66;03m# Validation step\u001B[39;00m\n\u001B[0;32m    352\u001B[0m models\u001B[38;5;241m.\u001B[39mloadModel(filepath)\n",
      "File \u001B[1;32m~\\PycharmProjects\\HSI-BandSelection-master\\src\\HSIBandSelection\\Classification\\Model.py:61\u001B[0m, in \u001B[0;36mModel.trainFold\u001B[1;34m(self, trainx, train_y, train, batch_size, epochs, valx, test, means, stds, filepath, printProc)\u001B[0m\n\u001B[0;32m     47\u001B[0m \u001B[38;5;28;01mdef\u001B[39;00m \u001B[38;5;21mtrainFold\u001B[39m(\u001B[38;5;28mself\u001B[39m, trainx, train_y, train, batch_size, epochs, valx, test, means, stds, filepath, printProc\u001B[38;5;241m=\u001B[39m\u001B[38;5;28;01mFalse\u001B[39;00m):\n\u001B[0;32m     48\u001B[0m \u001B[38;5;250m    \u001B[39m\u001B[38;5;124;03m\"\"\"Train the network given a train-validation split\u001B[39;00m\n\u001B[0;32m     49\u001B[0m \u001B[38;5;124;03m    @param trainx: Training set.\u001B[39;00m\n\u001B[0;32m     50\u001B[0m \u001B[38;5;124;03m    @param train_y: Target data of the entire dataset (training + validation sets).\u001B[39;00m\n\u001B[1;32m   (...)\u001B[0m\n\u001B[0;32m     59\u001B[0m \u001B[38;5;124;03m    @param printProc: If True, prints all the training process\u001B[39;00m\n\u001B[0;32m     60\u001B[0m \u001B[38;5;124;03m    \"\"\"\u001B[39;00m\n\u001B[1;32m---> 61\u001B[0m     \u001B[38;5;28;43mself\u001B[39;49m\u001B[38;5;241;43m.\u001B[39;49m\u001B[43mstrategy\u001B[49m\u001B[38;5;241;43m.\u001B[39;49m\u001B[43mtrainFoldStrategy\u001B[49m\u001B[43m(\u001B[49m\u001B[43mtrainx\u001B[49m\u001B[43m,\u001B[49m\u001B[43m \u001B[49m\u001B[43mtrain_y\u001B[49m\u001B[43m,\u001B[49m\u001B[43m \u001B[49m\u001B[43mtrain\u001B[49m\u001B[43m,\u001B[49m\u001B[43m \u001B[49m\u001B[43mbatch_size\u001B[49m\u001B[43m,\u001B[49m\u001B[43m \u001B[49m\u001B[38;5;28;43mself\u001B[39;49m\u001B[38;5;241;43m.\u001B[39;49m\u001B[43mclasses\u001B[49m\u001B[43m,\u001B[49m\u001B[43m \u001B[49m\u001B[38;5;28;43mself\u001B[39;49m\u001B[38;5;241;43m.\u001B[39;49m\u001B[43mdevice\u001B[49m\u001B[43m,\u001B[49m\n\u001B[0;32m     62\u001B[0m \u001B[43m                                    \u001B[49m\u001B[43mepochs\u001B[49m\u001B[43m,\u001B[49m\u001B[43m \u001B[49m\u001B[43mvalx\u001B[49m\u001B[43m,\u001B[49m\u001B[43m \u001B[49m\u001B[43mtest\u001B[49m\u001B[43m,\u001B[49m\u001B[43m \u001B[49m\u001B[43mmeans\u001B[49m\u001B[43m,\u001B[49m\u001B[43m \u001B[49m\u001B[43mstds\u001B[49m\u001B[43m,\u001B[49m\u001B[43m \u001B[49m\u001B[43mfilepath\u001B[49m\u001B[43m,\u001B[49m\u001B[43m \u001B[49m\u001B[43mprintProc\u001B[49m\u001B[43m)\u001B[49m\n",
      "File \u001B[1;32m~\\PycharmProjects\\HSI-BandSelection-master\\src\\HSIBandSelection\\Classification\\CNNStrategy.py:97\u001B[0m, in \u001B[0;36mCNNStrategy.trainFoldStrategy\u001B[1;34m(self, trainx, train_y, train, batch_size, classes, device, epochs, valx, test, means, stds, filepath, printProcess)\u001B[0m\n\u001B[0;32m     95\u001B[0m     trainyb \u001B[38;5;241m=\u001B[39m trainyb\u001B[38;5;241m.\u001B[39mfloat()\n\u001B[0;32m     96\u001B[0m loss \u001B[38;5;241m=\u001B[39m \u001B[38;5;28mself\u001B[39m\u001B[38;5;241m.\u001B[39mmodel\u001B[38;5;241m.\u001B[39mcriterion(outputs, trainyb)\n\u001B[1;32m---> 97\u001B[0m \u001B[43mloss\u001B[49m\u001B[38;5;241;43m.\u001B[39;49m\u001B[43mbackward\u001B[49m\u001B[43m(\u001B[49m\u001B[43m)\u001B[49m\n\u001B[0;32m     98\u001B[0m \u001B[38;5;28mself\u001B[39m\u001B[38;5;241m.\u001B[39mmodel\u001B[38;5;241m.\u001B[39moptimizer\u001B[38;5;241m.\u001B[39mstep()\n\u001B[0;32m    100\u001B[0m \u001B[38;5;66;03m# print statistics\u001B[39;00m\n",
      "File \u001B[1;32m~\\anaconda3\\envs\\HSI-BandSelection-master\\lib\\site-packages\\torch\\_tensor.py:521\u001B[0m, in \u001B[0;36mTensor.backward\u001B[1;34m(self, gradient, retain_graph, create_graph, inputs)\u001B[0m\n\u001B[0;32m    511\u001B[0m \u001B[38;5;28;01mif\u001B[39;00m has_torch_function_unary(\u001B[38;5;28mself\u001B[39m):\n\u001B[0;32m    512\u001B[0m     \u001B[38;5;28;01mreturn\u001B[39;00m handle_torch_function(\n\u001B[0;32m    513\u001B[0m         Tensor\u001B[38;5;241m.\u001B[39mbackward,\n\u001B[0;32m    514\u001B[0m         (\u001B[38;5;28mself\u001B[39m,),\n\u001B[1;32m   (...)\u001B[0m\n\u001B[0;32m    519\u001B[0m         inputs\u001B[38;5;241m=\u001B[39minputs,\n\u001B[0;32m    520\u001B[0m     )\n\u001B[1;32m--> 521\u001B[0m \u001B[43mtorch\u001B[49m\u001B[38;5;241;43m.\u001B[39;49m\u001B[43mautograd\u001B[49m\u001B[38;5;241;43m.\u001B[39;49m\u001B[43mbackward\u001B[49m\u001B[43m(\u001B[49m\n\u001B[0;32m    522\u001B[0m \u001B[43m    \u001B[49m\u001B[38;5;28;43mself\u001B[39;49m\u001B[43m,\u001B[49m\u001B[43m \u001B[49m\u001B[43mgradient\u001B[49m\u001B[43m,\u001B[49m\u001B[43m \u001B[49m\u001B[43mretain_graph\u001B[49m\u001B[43m,\u001B[49m\u001B[43m \u001B[49m\u001B[43mcreate_graph\u001B[49m\u001B[43m,\u001B[49m\u001B[43m \u001B[49m\u001B[43minputs\u001B[49m\u001B[38;5;241;43m=\u001B[39;49m\u001B[43minputs\u001B[49m\n\u001B[0;32m    523\u001B[0m \u001B[43m\u001B[49m\u001B[43m)\u001B[49m\n",
      "File \u001B[1;32m~\\anaconda3\\envs\\HSI-BandSelection-master\\lib\\site-packages\\torch\\autograd\\__init__.py:289\u001B[0m, in \u001B[0;36mbackward\u001B[1;34m(tensors, grad_tensors, retain_graph, create_graph, grad_variables, inputs)\u001B[0m\n\u001B[0;32m    284\u001B[0m     retain_graph \u001B[38;5;241m=\u001B[39m create_graph\n\u001B[0;32m    286\u001B[0m \u001B[38;5;66;03m# The reason we repeat the same comment below is that\u001B[39;00m\n\u001B[0;32m    287\u001B[0m \u001B[38;5;66;03m# some Python versions print out the first line of a multi-line function\u001B[39;00m\n\u001B[0;32m    288\u001B[0m \u001B[38;5;66;03m# calls in the traceback and some print out the last line\u001B[39;00m\n\u001B[1;32m--> 289\u001B[0m \u001B[43m_engine_run_backward\u001B[49m\u001B[43m(\u001B[49m\n\u001B[0;32m    290\u001B[0m \u001B[43m    \u001B[49m\u001B[43mtensors\u001B[49m\u001B[43m,\u001B[49m\n\u001B[0;32m    291\u001B[0m \u001B[43m    \u001B[49m\u001B[43mgrad_tensors_\u001B[49m\u001B[43m,\u001B[49m\n\u001B[0;32m    292\u001B[0m \u001B[43m    \u001B[49m\u001B[43mretain_graph\u001B[49m\u001B[43m,\u001B[49m\n\u001B[0;32m    293\u001B[0m \u001B[43m    \u001B[49m\u001B[43mcreate_graph\u001B[49m\u001B[43m,\u001B[49m\n\u001B[0;32m    294\u001B[0m \u001B[43m    \u001B[49m\u001B[43minputs\u001B[49m\u001B[43m,\u001B[49m\n\u001B[0;32m    295\u001B[0m \u001B[43m    \u001B[49m\u001B[43mallow_unreachable\u001B[49m\u001B[38;5;241;43m=\u001B[39;49m\u001B[38;5;28;43;01mTrue\u001B[39;49;00m\u001B[43m,\u001B[49m\n\u001B[0;32m    296\u001B[0m \u001B[43m    \u001B[49m\u001B[43maccumulate_grad\u001B[49m\u001B[38;5;241;43m=\u001B[39;49m\u001B[38;5;28;43;01mTrue\u001B[39;49;00m\u001B[43m,\u001B[49m\n\u001B[0;32m    297\u001B[0m \u001B[43m\u001B[49m\u001B[43m)\u001B[49m\n",
      "File \u001B[1;32m~\\anaconda3\\envs\\HSI-BandSelection-master\\lib\\site-packages\\torch\\autograd\\graph.py:768\u001B[0m, in \u001B[0;36m_engine_run_backward\u001B[1;34m(t_outputs, *args, **kwargs)\u001B[0m\n\u001B[0;32m    766\u001B[0m     unregister_hooks \u001B[38;5;241m=\u001B[39m _register_logging_hooks_on_whole_graph(t_outputs)\n\u001B[0;32m    767\u001B[0m \u001B[38;5;28;01mtry\u001B[39;00m:\n\u001B[1;32m--> 768\u001B[0m     \u001B[38;5;28;01mreturn\u001B[39;00m Variable\u001B[38;5;241m.\u001B[39m_execution_engine\u001B[38;5;241m.\u001B[39mrun_backward(  \u001B[38;5;66;03m# Calls into the C++ engine to run the backward pass\u001B[39;00m\n\u001B[0;32m    769\u001B[0m         t_outputs, \u001B[38;5;241m*\u001B[39margs, \u001B[38;5;241m*\u001B[39m\u001B[38;5;241m*\u001B[39mkwargs\n\u001B[0;32m    770\u001B[0m     )  \u001B[38;5;66;03m# Calls into the C++ engine to run the backward pass\u001B[39;00m\n\u001B[0;32m    771\u001B[0m \u001B[38;5;28;01mfinally\u001B[39;00m:\n\u001B[0;32m    772\u001B[0m     \u001B[38;5;28;01mif\u001B[39;00m attach_logging_hooks:\n",
      "\u001B[1;31mKeyboardInterrupt\u001B[0m: "
     ]
    }
   ],
   "execution_count": 6
  },
  {
   "cell_type": "code",
   "metadata": {
    "id": "HEvtF6hy7Nr6"
   },
   "source": [
    "print('The best metrics were obtained using a VIF value of {}'.format(VIF_best))\n",
    "print('The pre-selected bands obtained by IBRA wew {}'.format(IBRA_best))\n",
    "print('The pre-selected bands obtained by IBRA+GSS wew {}'.format(GSS_best))\n",
    "print('The best classification metrics were as follows:')\n",
    "print(stats_best)"
   ],
   "outputs": [],
   "execution_count": null
  },
  {
   "metadata": {},
   "cell_type": "code",
   "source": "",
   "outputs": [],
   "execution_count": null
  }
 ],
 "metadata": {
  "accelerator": "GPU",
  "colab": {
   "gpuType": "T4",
   "provenance": []
  },
  "kernelspec": {
   "display_name": "Python 3 (ipykernel)",
   "language": "python",
   "name": "python3"
  },
  "language_info": {
   "codemirror_mode": {
    "name": "ipython",
    "version": 3
   },
   "file_extension": ".py",
   "mimetype": "text/x-python",
   "name": "python",
   "nbconvert_exporter": "python",
   "pygments_lexer": "ipython3",
   "version": "3.9.6"
  }
 },
 "nbformat": 4,
 "nbformat_minor": 4
}
