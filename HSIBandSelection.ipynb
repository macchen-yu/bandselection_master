{
 "cells": [
  {
   "cell_type": "markdown",
   "metadata": {
    "id": "4zDnCDaKUoqP"
   },
   "source": [
    "# Hyperspectral Band Selection\n",
    "\n",
    "In this notebook, we'll demonstrate how to use our Inter-band redundancy method (IBRA) and the [Greedy Spectral Selection](https://www.mdpi.com/2072-4292/13/18/3649) (GSS) for hyperspectral band selection. IBRA can also be used in combination with Principal Component Analysis (PCA) and Partial Least Squares (PLS) for dimensionality reduction.\n",
    "\n",
    "## Installation\n",
    "\n",
    "Execute `!pip install git+https://github.com/NISL-MSU/HSI-BandSelection`\n",
    "\n"
   ]
  },
  {
   "metadata": {},
   "cell_type": "markdown",
   "source": ""
  },
  {
   "metadata": {},
   "cell_type": "code",
   "source": [
    "import torch\n",
    "torch.cuda.is_available()"
   ],
   "outputs": [],
   "execution_count": null
  },
  {
   "cell_type": "code",
   "metadata": {
    "colab": {
     "base_uri": "https://localhost:8080/"
    },
    "id": "LpT8OosiUk4q",
    "outputId": "5d905535-060f-48b8-b37d-d98f7d43ec05"
   },
   "source": [
    "# !pip install -q git+https://github.com/NISL-MSU/HSI-BandSelection\n",
    "import warnings\n",
    "warnings.filterwarnings(\"ignore\")"
   ],
   "outputs": [],
   "execution_count": null
  },
  {
   "cell_type": "markdown",
   "metadata": {
    "id": "PAvo_sJuVH5o"
   },
   "source": [
    "## Load your data\n",
    "\n",
    "You can bring your own HSI classification dataset. Format the input data as a set of image data cubes of shape $(N, w, h, b)$, where $N$ is the number of data cubes, $w$ and $h$ are the width and the height of the cubes, and $b$ is the number of spectral bands. You could use the `createImageCubes` method, provided [here](https://github.com/NISL-MSU/HSI-BandSelection/blob/master/src/HSIBandSelection/readSAT.py#L47), as a reference to format your data.\n",
    "\n",
    "In this example, we will load the Indian Pines dataset, which is an image with shape `(145, 145, 200)`."
   ]
  },
  {
   "cell_type": "code",
   "metadata": {
    "colab": {
     "base_uri": "https://localhost:8080/"
    },
    "id": "D-Hgf37-VG98",
    "outputId": "c686c513-ab52-4a12-90c2-0099afe449b3"
   },
   "source": [
    "from HSIBandSelection.readSAT import loadata, createImageCubes\n",
    "# X, Y = loadata(name='IP')\n",
    "X, Y = loadata(name='SA')\n",
    "print('Initial image shape: ' + str(X.shape))\n",
    "\n",
    "X, Y = createImageCubes(X, Y, window=5)\n",
    "print('Processed dataset shape: ' + str(X.shape))"
   ],
   "outputs": [],
   "execution_count": null
  },
  {
   "cell_type": "markdown",
   "metadata": {
    "id": "xy57K-xukuWw"
   },
   "source": [
    "In this case, we loaded a HS image saved in our package. It doesn't matter where you bring the data from, you only need to provide the $X$ (input data) and $Y$ (target labels) matrices. In addition, assign your dataset a name; otherwise, it will be called `temp`. With these three elements, we create a data object:"
   ]
  },
  {
   "cell_type": "code",
   "metadata": {
    "id": "AbDs3T5YlVhK"
   },
   "source": [
    "from HSIBandSelection.utils import Dataset\n",
    "# dataset = Dataset(train_x=X, train_y=Y, name='IP')\n",
    "dataset = Dataset(train_x=X, train_y=Y, name='SA')"
   ],
   "outputs": [],
   "execution_count": null
  },
  {
   "cell_type": "markdown",
   "metadata": {
    "id": "HSWSjz_6nKRv"
   },
   "source": [
    "## Execute the Band Selection / Dimensionality Reduction Algorithm\n",
    "\n",
    "We'll use the `SelectBands` class. **Parameters**:\n",
    "\n",
    "*   `dataset`: utils.Dataset object\n",
    "*   `method`: Method name. Options: 'IBRA', 'GSS' (IBRA+GSS), 'PCA' (IBRA+PCA), and 'PLS' (IBRA+PLS)\n",
    "*   `classifier`: Classifier type. Options: 'CNN' (if data is 2D), 'ANN', 'RF', 'SVM'. *Default:* 'CNN'\n",
    "*   `nbands`: How many spectral bands you want to select or reduce to. *Default:* 5\n",
    "*   `transform`: If True, the final selected bands will suffer a Gaussian transformation to simulate being a multispectral band. *Default:* False\n",
    "*   `average`: If True, average consecutive bands to reduce the initial total # of bands to half. *Default:* False\n",
    "*   `epochs`: Number of iterations used to train the NN models. *Default:* 150\n",
    "*   `batch_size`: Batch size used to train the NN models. *Default:* 128\n",
    "*   `scratch`: If True, execute the IBRA process from scratch and replace previously saved results. *Default:* True\n",
    "\n",
    "\n",
    "\n",
    "\n",
    "\n",
    "\n",
    "\n",
    "\n",
    "\n",
    "\n"
   ]
  },
  {
   "metadata": {},
   "cell_type": "markdown",
   "source": ""
  },
  {
   "cell_type": "code",
   "metadata": {
    "id": "6spOOMfK0sgn"
   },
   "source": [
    "from HSIBandSelection.SelectBands import SelectBands\n",
    "selector = SelectBands(dataset=dataset, method='GSS', nbands=5)\n",
    "print('Selected bands: ' + str(selector))"
   ],
   "outputs": [],
   "execution_count": null
  },
  {
   "cell_type": "markdown",
   "metadata": {
    "id": "1nFxKPiL0sym"
   },
   "source": [
    "From the SelectBands class, we call the `run_selection` method. **Parameters**:\n",
    "\n",
    "*   `init_vf`: Initial Variance Inflation Factor threshold (used for IBRA). *Default: 12*\n",
    "*   `final_vf`: Final Variance Inflation Factor threshold (used for IBRA). *Default: 5*\n",
    "\n",
    "\n",
    "\n",
    "**Return**:\n",
    "\n",
    "If the selected method is IBRA:\n",
    "\n",
    "*   `VIF_best`: The VIF threshold at which the best results were obtained\n",
    "*   `IBRA_best`: The best pre-selected bands using Iner-band redundancy\n",
    "*   `stats_best`: The best performance metric values obtained after 5x2 CV using the selected bands\n",
    "\n",
    "If the selected method is GSS:\n",
    "\n",
    "*   `VIF_best`: The VIF threshold at which the best results were obtained\n",
    "*   `IBRA_best`: The best pre-selected bands using Iner-band redundancy\n",
    "*   `GSS_best`: The best combination of bands obtained using GSS\n",
    "*   `stats_best`: The best performance metric values obtained after 5x2 CV using the selected bands\n",
    "\n",
    "If the selected method is PCA or PLS:\n",
    "\n",
    "*   `VIF_best`: The VIF threshold at which the best results were obtained\n",
    "*   `IBRA_best`: The best pre-selected bands using Iner-band redundancy\n",
    "*   `reduced_dataset`: The reduced dataset after applying PCA or PLS to the pre-selected bands\n",
    "*   `stats_best`: The best performance metric values obtained after 5x2 CV using the reduced bands\n",
    "\n",
    "**IMPORTANT**: This code is implemented using Pytorch. If you're running this on Google Colab, change the runtime type to GPU to accelerate the training process!"
   ]
  },
  {
   "cell_type": "code",
   "metadata": {
    "colab": {
     "base_uri": "https://localhost:8080/",
     "height": 391
    },
    "id": "jmC_oR_f0tBO",
    "outputId": "872c7180-4ba3-490a-f6f3-23038798452b",
    "ExecuteTime": {
     "end_time": "2024-08-07T01:57:32.755828Z",
     "start_time": "2024-08-06T18:05:50.018180Z"
    }
   },
   "source": [
    "VIF_best, IBRA_best, GSS_best, stats_best =selector.run_selection(init_vf=11, final_vf=9)"
   ],
   "outputs": [
    {
     "name": "stdout",
     "output_type": "stream",
     "text": [
      "*************************************\n",
      "Testing VIF threshold: 11\n",
      "*************************************\n"
     ]
    },
    {
     "name": "stderr",
     "output_type": "stream",
     "text": [
      "100%|██████████| 204/204 [10:51<00:00,  3.19s/it]\n"
     ]
    },
    {
     "name": "stdout",
     "output_type": "stream",
     "text": [
      "Selecting bands:  [2, 17, 22, 28, 37, 60, 63, 91, 104, 106, 127, 147, 175, 202]\n",
      "Executing IBRA + GSS (Greddy Spectral Selection)\n",
      "\tAnalyzing candidate combination 1. 5x2 CV using bands: [22, 28, 37, 60, 63]\n"
     ]
    },
    {
     "name": "stderr",
     "output_type": "stream",
     "text": [
      "100%|██████████| 10/10 [25:03<00:00, 150.31s/it]\n"
     ]
    },
    {
     "name": "stdout",
     "output_type": "stream",
     "text": [
      "\tMean F1: 0.993396685934445\n",
      "\t\t\tMulticolinearity analysis. Variance Inflation Factor of band 22 is 251.57\n",
      "\t\t\tMulticolinearity analysis. Variance Inflation Factor of band 28 is 255.49\n",
      "\t\t\tMulticolinearity analysis. Variance Inflation Factor of band 37 is 21.3\n",
      "\t\t\tMulticolinearity analysis. Variance Inflation Factor of band 60 is 270.36\n",
      "\t\t\tMulticolinearity analysis. Variance Inflation Factor of band 63 is 283.75\n",
      "\tAnalyzing candidate combination 2. 5x2 CV using bands: [22, 28, 37, 60, 91]\n"
     ]
    },
    {
     "name": "stderr",
     "output_type": "stream",
     "text": [
      "100%|██████████| 10/10 [24:44<00:00, 148.45s/it]\n"
     ]
    },
    {
     "name": "stdout",
     "output_type": "stream",
     "text": [
      "\tMean F1: 0.9946371705559475\n",
      "\tBest selection so far: [22, 28, 37, 60, 91]with an F1 score of 0.9946371705559475\n",
      "\t\t\tMulticolinearity analysis. Variance Inflation Factor of band 22 is 266.17\n",
      "\t\t\tMulticolinearity analysis. Variance Inflation Factor of band 28 is 291.75\n",
      "\t\t\tMulticolinearity analysis. Variance Inflation Factor of band 37 is 17.26\n",
      "\t\t\tMulticolinearity analysis. Variance Inflation Factor of band 60 is 23.11\n",
      "\t\t\tMulticolinearity analysis. Variance Inflation Factor of band 91 is 22.81\n",
      "\tAnalyzing candidate combination 3. 5x2 CV using bands: [17, 22, 37, 60, 91]\n"
     ]
    },
    {
     "name": "stderr",
     "output_type": "stream",
     "text": [
      "100%|██████████| 10/10 [24:30<00:00, 147.03s/it]\n"
     ]
    },
    {
     "name": "stdout",
     "output_type": "stream",
     "text": [
      "\tMean F1: 0.993061268723444\n",
      "\tBest selection so far: [22, 28, 37, 60, 91]with an F1 score of 0.9946371705559475\n",
      "\t\t\tMulticolinearity analysis. Variance Inflation Factor of band 17 is 170.25\n",
      "\t\t\tMulticolinearity analysis. Variance Inflation Factor of band 22 is 248.79\n",
      "\t\t\tMulticolinearity analysis. Variance Inflation Factor of band 37 is 17.66\n",
      "\t\t\tMulticolinearity analysis. Variance Inflation Factor of band 60 is 30.9\n",
      "\t\t\tMulticolinearity analysis. Variance Inflation Factor of band 91 is 20.82\n",
      "\tAnalyzing candidate combination 4. 5x2 CV using bands: [17, 37, 60, 91, 175]\n"
     ]
    },
    {
     "name": "stderr",
     "output_type": "stream",
     "text": [
      "100%|██████████| 10/10 [24:23<00:00, 146.32s/it]\n"
     ]
    },
    {
     "name": "stdout",
     "output_type": "stream",
     "text": [
      "\tMean F1: 0.994193484073962\n",
      "\tBest selection so far: [22, 28, 37, 60, 91]with an F1 score of 0.9946371705559475\n",
      "\t\t\tMulticolinearity analysis. Variance Inflation Factor of band 17 is 20.58\n",
      "\t\t\tMulticolinearity analysis. Variance Inflation Factor of band 37 is 21.27\n",
      "\t\t\tMulticolinearity analysis. Variance Inflation Factor of band 60 is 17.04\n",
      "\t\t\tMulticolinearity analysis. Variance Inflation Factor of band 91 is 23.04\n",
      "\t\t\tMulticolinearity analysis. Variance Inflation Factor of band 175 is 11.38\n",
      "\tAnalyzing candidate combination 5. 5x2 CV using bands: [17, 37, 60, 127, 175]\n"
     ]
    },
    {
     "name": "stderr",
     "output_type": "stream",
     "text": [
      "100%|██████████| 10/10 [24:22<00:00, 146.21s/it]\n"
     ]
    },
    {
     "name": "stdout",
     "output_type": "stream",
     "text": [
      "\tMean F1: 0.9946080504878069\n",
      "\tBest selection so far: [22, 28, 37, 60, 91]with an F1 score of 0.9946371705559475\n",
      "\t\t\tMulticolinearity analysis. Variance Inflation Factor of band 17 is 17.39\n",
      "\t\t\tMulticolinearity analysis. Variance Inflation Factor of band 37 is 17.48\n",
      "\t\t\tMulticolinearity analysis. Variance Inflation Factor of band 60 is 2.91\n",
      "\t\t\tMulticolinearity analysis. Variance Inflation Factor of band 127 is 74.59\n",
      "\t\t\tMulticolinearity analysis. Variance Inflation Factor of band 175 is 66.56\n",
      "\tAnalyzing candidate combination 6. 5x2 CV using bands: [17, 37, 60, 104, 175]\n"
     ]
    },
    {
     "name": "stderr",
     "output_type": "stream",
     "text": [
      "100%|██████████| 10/10 [24:22<00:00, 146.22s/it]\n"
     ]
    },
    {
     "name": "stdout",
     "output_type": "stream",
     "text": [
      "\tMean F1: 0.9949819332179792\n",
      "\tBest selection so far: [17, 37, 60, 104, 175]with an F1 score of 0.9949819332179792\n",
      "\t\t\tMulticolinearity analysis. Variance Inflation Factor of band 17 is 23.24\n",
      "\t\t\tMulticolinearity analysis. Variance Inflation Factor of band 37 is 23.98\n",
      "\t\t\tMulticolinearity analysis. Variance Inflation Factor of band 60 is 5.76\n",
      "\t\t\tMulticolinearity analysis. Variance Inflation Factor of band 104 is 15.07\n",
      "\t\t\tMulticolinearity analysis. Variance Inflation Factor of band 175 is 17.63\n",
      "\tAnalyzing candidate combination 7. 5x2 CV using bands: [2, 17, 60, 104, 175]\n"
     ]
    },
    {
     "name": "stderr",
     "output_type": "stream",
     "text": [
      "100%|██████████| 10/10 [24:26<00:00, 146.66s/it]\n"
     ]
    },
    {
     "name": "stdout",
     "output_type": "stream",
     "text": [
      "\tMean F1: 0.9941119026456293\n",
      "\tBest selection so far: [17, 37, 60, 104, 175]with an F1 score of 0.9949819332179792\n",
      "\t\t\tMulticolinearity analysis. Variance Inflation Factor of band 2 is 4.0\n",
      "\t\t\tMulticolinearity analysis. Variance Inflation Factor of band 17 is 8.84\n",
      "\t\t\tMulticolinearity analysis. Variance Inflation Factor of band 60 is 5.22\n",
      "\t\t\tMulticolinearity analysis. Variance Inflation Factor of band 104 is 5.06\n",
      "\t\t\tMulticolinearity analysis. Variance Inflation Factor of band 175 is 9.52\n",
      "\tAnalyzing candidate combination 8. 5x2 CV using bands: [2, 17, 60, 104, 202]\n"
     ]
    },
    {
     "name": "stderr",
     "output_type": "stream",
     "text": [
      "100%|██████████| 10/10 [24:32<00:00, 147.25s/it]\n"
     ]
    },
    {
     "name": "stdout",
     "output_type": "stream",
     "text": [
      "\tMean F1: 0.9919818007762276\n",
      "\tBest selection so far: [17, 37, 60, 104, 175]with an F1 score of 0.9949819332179792\n",
      "\t\t\tMulticolinearity analysis. Variance Inflation Factor of band 2 is 3.82\n",
      "\t\t\tMulticolinearity analysis. Variance Inflation Factor of band 17 is 7.63\n",
      "\t\t\tMulticolinearity analysis. Variance Inflation Factor of band 60 is 2.41\n",
      "\t\t\tMulticolinearity analysis. Variance Inflation Factor of band 104 is 4.43\n",
      "\t\t\tMulticolinearity analysis. Variance Inflation Factor of band 202 is 2.5\n",
      "\tAnalyzing candidate combination 9. 5x2 CV using bands: [2, 60, 104, 147, 202]\n"
     ]
    },
    {
     "name": "stderr",
     "output_type": "stream",
     "text": [
      "100%|██████████| 10/10 [24:36<00:00, 147.66s/it]\n"
     ]
    },
    {
     "name": "stdout",
     "output_type": "stream",
     "text": [
      "\tMean F1: 0.9847654558893577\n",
      "\tBest selection so far: [17, 37, 60, 104, 175]with an F1 score of 0.9949819332179792\n",
      "\t\t\tMulticolinearity analysis. Variance Inflation Factor of band 2 is 2.39\n",
      "\t\t\tMulticolinearity analysis. Variance Inflation Factor of band 60 is 2.31\n",
      "\t\t\tMulticolinearity analysis. Variance Inflation Factor of band 104 is 2.91\n",
      "\t\t\tMulticolinearity analysis. Variance Inflation Factor of band 147 is 2.27\n",
      "\t\t\tMulticolinearity analysis. Variance Inflation Factor of band 202 is 2.5\n",
      "\tAnalyzing candidate combination 10. 5x2 CV using bands: [2, 60, 106, 147, 202]\n"
     ]
    },
    {
     "name": "stderr",
     "output_type": "stream",
     "text": [
      "100%|██████████| 10/10 [24:35<00:00, 147.58s/it]\n"
     ]
    },
    {
     "name": "stdout",
     "output_type": "stream",
     "text": [
      "\tMean F1: 0.9318810117085363\n",
      "Selecting bands:  [17, 37, 60, 104, 175]\n",
      "\n",
      " Training a model using 5x2 CV using the final selected or reduced bands...\n",
      "Mean F1 score: 99.50417325483932\n",
      "\n",
      "*************************************\n",
      "Testing VIF threshold: 10\n",
      "*************************************\n"
     ]
    },
    {
     "name": "stderr",
     "output_type": "stream",
     "text": [
      "100%|██████████| 204/204 [00:13<00:00, 15.46it/s]\n"
     ]
    },
    {
     "name": "stdout",
     "output_type": "stream",
     "text": [
      "Selecting bands:  [2, 17, 22, 29, 37, 60, 64, 92, 103, 106, 127, 147, 175, 202]\n",
      "Executing IBRA + GSS (Greddy Spectral Selection)\n",
      "\tAnalyzing candidate combination 1. 5x2 CV using bands: [22, 29, 37, 64, 92]\n"
     ]
    },
    {
     "name": "stderr",
     "output_type": "stream",
     "text": [
      "100%|██████████| 10/10 [24:32<00:00, 147.30s/it]\n"
     ]
    },
    {
     "name": "stdout",
     "output_type": "stream",
     "text": [
      "\tMean F1: 0.9940913159993954\n",
      "\t\t\tMulticolinearity analysis. Variance Inflation Factor of band 22 is 229.62\n",
      "\t\t\tMulticolinearity analysis. Variance Inflation Factor of band 29 is 251.58\n",
      "\t\t\tMulticolinearity analysis. Variance Inflation Factor of band 37 is 17.39\n",
      "\t\t\tMulticolinearity analysis. Variance Inflation Factor of band 64 is 41.49\n",
      "\t\t\tMulticolinearity analysis. Variance Inflation Factor of band 92 is 39.9\n",
      "\tAnalyzing candidate combination 2. 5x2 CV using bands: [22, 37, 60, 64, 92]\n"
     ]
    },
    {
     "name": "stderr",
     "output_type": "stream",
     "text": [
      "100%|██████████| 10/10 [24:26<00:00, 146.67s/it]\n"
     ]
    },
    {
     "name": "stdout",
     "output_type": "stream",
     "text": [
      "\tMean F1: 0.9941600304998535\n",
      "\tBest selection so far: [22, 37, 60, 64, 92]with an F1 score of 0.9941600304998535\n",
      "\t\t\tMulticolinearity analysis. Variance Inflation Factor of band 22 is 15.29\n",
      "\t\t\tMulticolinearity analysis. Variance Inflation Factor of band 37 is 20.13\n",
      "\t\t\tMulticolinearity analysis. Variance Inflation Factor of band 60 is 344.76\n",
      "\t\t\tMulticolinearity analysis. Variance Inflation Factor of band 64 is 604.76\n",
      "\t\t\tMulticolinearity analysis. Variance Inflation Factor of band 92 is 57.36\n",
      "\tAnalyzing candidate combination 3. 5x2 CV using bands: [17, 22, 37, 60, 92]\n"
     ]
    },
    {
     "name": "stderr",
     "output_type": "stream",
     "text": [
      "100%|██████████| 10/10 [24:36<00:00, 147.65s/it]\n"
     ]
    },
    {
     "name": "stdout",
     "output_type": "stream",
     "text": [
      "\tMean F1: 0.9931382094204737\n",
      "\tBest selection so far: [22, 37, 60, 64, 92]with an F1 score of 0.9941600304998535\n",
      "\t\t\tMulticolinearity analysis. Variance Inflation Factor of band 17 is 170.37\n",
      "\t\t\tMulticolinearity analysis. Variance Inflation Factor of band 22 is 247.99\n",
      "\t\t\tMulticolinearity analysis. Variance Inflation Factor of band 37 is 17.78\n",
      "\t\t\tMulticolinearity analysis. Variance Inflation Factor of band 60 is 30.87\n",
      "\t\t\tMulticolinearity analysis. Variance Inflation Factor of band 92 is 20.79\n",
      "\tAnalyzing candidate combination 4. 5x2 CV using bands: [17, 37, 60, 92, 175]\n"
     ]
    },
    {
     "name": "stderr",
     "output_type": "stream",
     "text": [
      "100%|██████████| 10/10 [24:25<00:00, 146.55s/it]\n"
     ]
    },
    {
     "name": "stdout",
     "output_type": "stream",
     "text": [
      "\tMean F1: 0.9944234228352459\n",
      "\tBest selection so far: [17, 37, 60, 92, 175]with an F1 score of 0.9944234228352459\n",
      "\t\t\tMulticolinearity analysis. Variance Inflation Factor of band 17 is 20.72\n",
      "\t\t\tMulticolinearity analysis. Variance Inflation Factor of band 37 is 21.29\n",
      "\t\t\tMulticolinearity analysis. Variance Inflation Factor of band 60 is 16.98\n",
      "\t\t\tMulticolinearity analysis. Variance Inflation Factor of band 92 is 22.88\n",
      "\t\t\tMulticolinearity analysis. Variance Inflation Factor of band 175 is 11.28\n",
      "\tAnalyzing candidate combination 5. 5x2 CV using bands: [17, 37, 60, 127, 175]\n"
     ]
    },
    {
     "name": "stderr",
     "output_type": "stream",
     "text": [
      "100%|██████████| 10/10 [24:28<00:00, 146.80s/it]\n"
     ]
    },
    {
     "name": "stdout",
     "output_type": "stream",
     "text": [
      "\tMean F1: 0.9946080504878069\n",
      "\tBest selection so far: [17, 37, 60, 127, 175]with an F1 score of 0.9946080504878069\n",
      "\t\t\tMulticolinearity analysis. Variance Inflation Factor of band 17 is 17.39\n",
      "\t\t\tMulticolinearity analysis. Variance Inflation Factor of band 37 is 17.48\n",
      "\t\t\tMulticolinearity analysis. Variance Inflation Factor of band 60 is 2.91\n",
      "\t\t\tMulticolinearity analysis. Variance Inflation Factor of band 127 is 74.59\n",
      "\t\t\tMulticolinearity analysis. Variance Inflation Factor of band 175 is 66.56\n",
      "\tAnalyzing candidate combination 6. 5x2 CV using bands: [17, 37, 60, 103, 175]\n"
     ]
    },
    {
     "name": "stderr",
     "output_type": "stream",
     "text": [
      "100%|██████████| 10/10 [24:26<00:00, 146.67s/it]\n"
     ]
    },
    {
     "name": "stdout",
     "output_type": "stream",
     "text": [
      "\tMean F1: 0.9947591954003474\n",
      "\tBest selection so far: [17, 37, 60, 103, 175]with an F1 score of 0.9947591954003474\n",
      "\t\t\tMulticolinearity analysis. Variance Inflation Factor of band 17 is 22.99\n",
      "\t\t\tMulticolinearity analysis. Variance Inflation Factor of band 37 is 23.89\n",
      "\t\t\tMulticolinearity analysis. Variance Inflation Factor of band 60 is 7.29\n",
      "\t\t\tMulticolinearity analysis. Variance Inflation Factor of band 103 is 15.07\n",
      "\t\t\tMulticolinearity analysis. Variance Inflation Factor of band 175 is 15.5\n",
      "\tAnalyzing candidate combination 7. 5x2 CV using bands: [2, 17, 60, 103, 175]\n"
     ]
    },
    {
     "name": "stderr",
     "output_type": "stream",
     "text": [
      "100%|██████████| 10/10 [24:28<00:00, 146.85s/it]\n"
     ]
    },
    {
     "name": "stdout",
     "output_type": "stream",
     "text": [
      "\tMean F1: 0.9944733183310219\n",
      "\tBest selection so far: [17, 37, 60, 103, 175]with an F1 score of 0.9947591954003474\n",
      "\t\t\tMulticolinearity analysis. Variance Inflation Factor of band 2 is 4.0\n",
      "\t\t\tMulticolinearity analysis. Variance Inflation Factor of band 17 is 8.91\n",
      "\t\t\tMulticolinearity analysis. Variance Inflation Factor of band 60 is 5.96\n",
      "\t\t\tMulticolinearity analysis. Variance Inflation Factor of band 103 is 5.09\n",
      "\t\t\tMulticolinearity analysis. Variance Inflation Factor of band 175 is 9.08\n",
      "\tAnalyzing candidate combination 8. 5x2 CV using bands: [2, 17, 60, 103, 202]\n"
     ]
    },
    {
     "name": "stderr",
     "output_type": "stream",
     "text": [
      " 20%|██        | 2/10 [06:29<25:59, 194.97s/it]\n"
     ]
    },
    {
     "ename": "KeyboardInterrupt",
     "evalue": "",
     "output_type": "error",
     "traceback": [
      "\u001B[1;31m---------------------------------------------------------------------------\u001B[0m",
      "\u001B[1;31mKeyboardInterrupt\u001B[0m                         Traceback (most recent call last)",
      "Cell \u001B[1;32mIn[12], line 1\u001B[0m\n\u001B[1;32m----> 1\u001B[0m VIF_best, IBRA_best, GSS_best, stats_best \u001B[38;5;241m=\u001B[39m\u001B[43mselector\u001B[49m\u001B[38;5;241;43m.\u001B[39;49m\u001B[43mrun_selection\u001B[49m\u001B[43m(\u001B[49m\u001B[43minit_vf\u001B[49m\u001B[38;5;241;43m=\u001B[39;49m\u001B[38;5;241;43m11\u001B[39;49m\u001B[43m,\u001B[49m\u001B[43m \u001B[49m\u001B[43mfinal_vf\u001B[49m\u001B[38;5;241;43m=\u001B[39;49m\u001B[38;5;241;43m9\u001B[39;49m\u001B[43m)\u001B[49m\n",
      "File \u001B[1;32m~\\PycharmProjects\\HSI-BandSelection-master\\src\\HSIBandSelection\\SelectBands.py:108\u001B[0m, in \u001B[0;36mSelectBands.run_selection\u001B[1;34m(self, init_vf, final_vf)\u001B[0m\n\u001B[0;32m    106\u001B[0m GSSindexes \u001B[38;5;241m=\u001B[39m \u001B[38;5;28;01mNone\u001B[39;00m\n\u001B[0;32m    107\u001B[0m \u001B[38;5;28;01mif\u001B[39;00m \u001B[38;5;28mself\u001B[39m\u001B[38;5;241m.\u001B[39mmethod \u001B[38;5;241m==\u001B[39m \u001B[38;5;124m'\u001B[39m\u001B[38;5;124mGSS\u001B[39m\u001B[38;5;124m'\u001B[39m:\n\u001B[1;32m--> 108\u001B[0m     GSSindexes, entr \u001B[38;5;241m=\u001B[39m \u001B[43mnet\u001B[49m\u001B[38;5;241;43m.\u001B[39;49m\u001B[43mselection\u001B[49m\u001B[43m(\u001B[49m\u001B[43mselect\u001B[49m\u001B[38;5;241;43m=\u001B[39;49m\u001B[38;5;28;43mself\u001B[39;49m\u001B[38;5;241;43m.\u001B[39;49m\u001B[43mnbands\u001B[49m\u001B[43m)\u001B[49m\n\u001B[0;32m    109\u001B[0m     new_dataset \u001B[38;5;241m=\u001B[39m process_data(\u001B[38;5;28mself\u001B[39m\u001B[38;5;241m.\u001B[39mdataset, selection\u001B[38;5;241m=\u001B[39mGSSindexes, flag_average\u001B[38;5;241m=\u001B[39m\u001B[38;5;28;01mFalse\u001B[39;00m,\n\u001B[0;32m    110\u001B[0m                                transform\u001B[38;5;241m=\u001B[39m\u001B[38;5;28mself\u001B[39m\u001B[38;5;241m.\u001B[39mtransform)\n\u001B[0;32m    111\u001B[0m \u001B[38;5;28;01melse\u001B[39;00m:\n",
      "File \u001B[1;32m~\\PycharmProjects\\HSI-BandSelection-master\\src\\HSIBandSelection\\TrainSelection.py:301\u001B[0m, in \u001B[0;36mTrainSelection.selection\u001B[1;34m(self, select)\u001B[0m\n\u001B[0;32m    299\u001B[0m \u001B[38;5;66;03m# Train using the bands in \"selection\"\u001B[39;00m\n\u001B[0;32m    300\u001B[0m \u001B[38;5;28mprint\u001B[39m(\u001B[38;5;124m\"\u001B[39m\u001B[38;5;130;01m\\t\u001B[39;00m\u001B[38;5;124mAnalyzing candidate combination \u001B[39m\u001B[38;5;124m\"\u001B[39m \u001B[38;5;241m+\u001B[39m \u001B[38;5;28mstr\u001B[39m(ct) \u001B[38;5;241m+\u001B[39m \u001B[38;5;124m\"\u001B[39m\u001B[38;5;124m. 5x2 CV using bands: \u001B[39m\u001B[38;5;124m\"\u001B[39m \u001B[38;5;241m+\u001B[39m \u001B[38;5;28mstr\u001B[39m(selection))\n\u001B[1;32m--> 301\u001B[0m f1 \u001B[38;5;241m=\u001B[39m \u001B[38;5;28;43mself\u001B[39;49m\u001B[38;5;241;43m.\u001B[39;49m\u001B[43mtune\u001B[49m\u001B[43m(\u001B[49m\u001B[43mselection\u001B[49m\u001B[38;5;241;43m=\u001B[39;49m\u001B[43mselection\u001B[49m\u001B[43m)\u001B[49m\n\u001B[0;32m    302\u001B[0m \u001B[38;5;28mprint\u001B[39m(\u001B[38;5;124m\"\u001B[39m\u001B[38;5;130;01m\\t\u001B[39;00m\u001B[38;5;124mMean F1: \u001B[39m\u001B[38;5;124m\"\u001B[39m \u001B[38;5;241m+\u001B[39m \u001B[38;5;28mstr\u001B[39m(f1))\n\u001B[0;32m    303\u001B[0m \u001B[38;5;66;03m# Check if the new selection has better performance than the previous one. If not, break\u001B[39;00m\n",
      "File \u001B[1;32m~\\PycharmProjects\\HSI-BandSelection-master\\src\\HSIBandSelection\\TrainSelection.py:350\u001B[0m, in \u001B[0;36mTrainSelection.tune\u001B[1;34m(self, selection)\u001B[0m\n\u001B[0;32m    348\u001B[0m filepath \u001B[38;5;241m=\u001B[39m \u001B[38;5;28mself\u001B[39m\u001B[38;5;241m.\u001B[39mdata \u001B[38;5;241m+\u001B[39m \u001B[38;5;124m\"\u001B[39m\u001B[38;5;124m//results//\u001B[39m\u001B[38;5;124m\"\u001B[39m \u001B[38;5;241m+\u001B[39m \u001B[38;5;28mself\u001B[39m\u001B[38;5;241m.\u001B[39mmethod \u001B[38;5;241m+\u001B[39m \u001B[38;5;124m\"\u001B[39m\u001B[38;5;124m//temp2\u001B[39m\u001B[38;5;124m\"\u001B[39m\n\u001B[0;32m    349\u001B[0m \u001B[38;5;66;03m# Train the model using the current training-validation split\u001B[39;00m\n\u001B[1;32m--> 350\u001B[0m \u001B[43mmodels\u001B[49m\u001B[38;5;241;43m.\u001B[39;49m\u001B[43mtrainFold\u001B[49m\u001B[43m(\u001B[49m\u001B[43mtrainxn\u001B[49m\u001B[43m,\u001B[49m\u001B[43m \u001B[49m\u001B[38;5;28;43mself\u001B[39;49m\u001B[38;5;241;43m.\u001B[39;49m\u001B[43mtrain_y\u001B[49m\u001B[43m,\u001B[49m\u001B[43m \u001B[49m\u001B[43mtrain\u001B[49m\u001B[43m,\u001B[49m\u001B[43m \u001B[49m\u001B[38;5;28;43mself\u001B[39;49m\u001B[38;5;241;43m.\u001B[39;49m\u001B[43mbatch_size\u001B[49m\u001B[43m,\u001B[49m\u001B[43m \u001B[49m\u001B[38;5;241;43m100\u001B[39;49m\u001B[43m,\u001B[49m\u001B[43m \u001B[49m\u001B[43mvalx\u001B[49m\u001B[43m,\u001B[49m\u001B[43m \u001B[49m\u001B[43mtest\u001B[49m\u001B[43m,\u001B[49m\u001B[43m \u001B[49m\u001B[43mmeans\u001B[49m\u001B[43m,\u001B[49m\u001B[43m \u001B[49m\u001B[43mstds\u001B[49m\u001B[43m,\u001B[49m\u001B[43m \u001B[49m\u001B[43mfilepath\u001B[49m\u001B[43m,\u001B[49m\u001B[43m \u001B[49m\u001B[38;5;28;43;01mFalse\u001B[39;49;00m\u001B[43m)\u001B[49m\n\u001B[0;32m    351\u001B[0m \u001B[38;5;66;03m# Validation step\u001B[39;00m\n\u001B[0;32m    352\u001B[0m models\u001B[38;5;241m.\u001B[39mloadModel(filepath)\n",
      "File \u001B[1;32m~\\PycharmProjects\\HSI-BandSelection-master\\src\\HSIBandSelection\\Classification\\Model.py:61\u001B[0m, in \u001B[0;36mModel.trainFold\u001B[1;34m(self, trainx, train_y, train, batch_size, epochs, valx, test, means, stds, filepath, printProc)\u001B[0m\n\u001B[0;32m     47\u001B[0m \u001B[38;5;28;01mdef\u001B[39;00m \u001B[38;5;21mtrainFold\u001B[39m(\u001B[38;5;28mself\u001B[39m, trainx, train_y, train, batch_size, epochs, valx, test, means, stds, filepath, printProc\u001B[38;5;241m=\u001B[39m\u001B[38;5;28;01mFalse\u001B[39;00m):\n\u001B[0;32m     48\u001B[0m \u001B[38;5;250m    \u001B[39m\u001B[38;5;124;03m\"\"\"Train the network given a train-validation split\u001B[39;00m\n\u001B[0;32m     49\u001B[0m \u001B[38;5;124;03m    @param trainx: Training set.\u001B[39;00m\n\u001B[0;32m     50\u001B[0m \u001B[38;5;124;03m    @param train_y: Target data of the entire dataset (training + validation sets).\u001B[39;00m\n\u001B[1;32m   (...)\u001B[0m\n\u001B[0;32m     59\u001B[0m \u001B[38;5;124;03m    @param printProc: If True, prints all the training process\u001B[39;00m\n\u001B[0;32m     60\u001B[0m \u001B[38;5;124;03m    \"\"\"\u001B[39;00m\n\u001B[1;32m---> 61\u001B[0m     \u001B[38;5;28;43mself\u001B[39;49m\u001B[38;5;241;43m.\u001B[39;49m\u001B[43mstrategy\u001B[49m\u001B[38;5;241;43m.\u001B[39;49m\u001B[43mtrainFoldStrategy\u001B[49m\u001B[43m(\u001B[49m\u001B[43mtrainx\u001B[49m\u001B[43m,\u001B[49m\u001B[43m \u001B[49m\u001B[43mtrain_y\u001B[49m\u001B[43m,\u001B[49m\u001B[43m \u001B[49m\u001B[43mtrain\u001B[49m\u001B[43m,\u001B[49m\u001B[43m \u001B[49m\u001B[43mbatch_size\u001B[49m\u001B[43m,\u001B[49m\u001B[43m \u001B[49m\u001B[38;5;28;43mself\u001B[39;49m\u001B[38;5;241;43m.\u001B[39;49m\u001B[43mclasses\u001B[49m\u001B[43m,\u001B[49m\u001B[43m \u001B[49m\u001B[38;5;28;43mself\u001B[39;49m\u001B[38;5;241;43m.\u001B[39;49m\u001B[43mdevice\u001B[49m\u001B[43m,\u001B[49m\n\u001B[0;32m     62\u001B[0m \u001B[43m                                    \u001B[49m\u001B[43mepochs\u001B[49m\u001B[43m,\u001B[49m\u001B[43m \u001B[49m\u001B[43mvalx\u001B[49m\u001B[43m,\u001B[49m\u001B[43m \u001B[49m\u001B[43mtest\u001B[49m\u001B[43m,\u001B[49m\u001B[43m \u001B[49m\u001B[43mmeans\u001B[49m\u001B[43m,\u001B[49m\u001B[43m \u001B[49m\u001B[43mstds\u001B[49m\u001B[43m,\u001B[49m\u001B[43m \u001B[49m\u001B[43mfilepath\u001B[49m\u001B[43m,\u001B[49m\u001B[43m \u001B[49m\u001B[43mprintProc\u001B[49m\u001B[43m)\u001B[49m\n",
      "File \u001B[1;32m~\\PycharmProjects\\HSI-BandSelection-master\\src\\HSIBandSelection\\Classification\\CNNStrategy.py:108\u001B[0m, in \u001B[0;36mCNNStrategy.trainFoldStrategy\u001B[1;34m(self, trainx, train_y, train, batch_size, classes, device, epochs, valx, test, means, stds, filepath, printProcess)\u001B[0m\n\u001B[0;32m    105\u001B[0m         running_loss \u001B[38;5;241m=\u001B[39m \u001B[38;5;241m0.0\u001B[39m\n\u001B[0;32m    107\u001B[0m \u001B[38;5;66;03m# Validation step\u001B[39;00m\n\u001B[1;32m--> 108\u001B[0m ytest, ypred \u001B[38;5;241m=\u001B[39m \u001B[38;5;28;43mself\u001B[39;49m\u001B[38;5;241;43m.\u001B[39;49m\u001B[43mevaluateFoldStrategy\u001B[49m\u001B[43m(\u001B[49m\u001B[43mvalx\u001B[49m\u001B[43m,\u001B[49m\u001B[43m \u001B[49m\u001B[43mtrain_y\u001B[49m\u001B[43m,\u001B[49m\u001B[43m \u001B[49m\u001B[43mtest\u001B[49m\u001B[43m,\u001B[49m\n\u001B[0;32m    109\u001B[0m \u001B[43m                                         \u001B[49m\u001B[43mmeans\u001B[49m\u001B[43m,\u001B[49m\u001B[43m \u001B[49m\u001B[43mstds\u001B[49m\u001B[43m,\u001B[49m\u001B[43m \u001B[49m\u001B[43mbatch_size\u001B[49m\u001B[43m,\u001B[49m\u001B[43m \u001B[49m\u001B[43mclasses\u001B[49m\u001B[43m,\u001B[49m\u001B[43m \u001B[49m\u001B[43mdevice\u001B[49m\u001B[43m)\u001B[49m\n\u001B[0;32m    110\u001B[0m \u001B[38;5;28;01mif\u001B[39;00m classes \u001B[38;5;241m==\u001B[39m \u001B[38;5;241m2\u001B[39m:\n\u001B[0;32m    111\u001B[0m     ypred \u001B[38;5;241m=\u001B[39m np\u001B[38;5;241m.\u001B[39marray(ypred)\u001B[38;5;241m.\u001B[39mreshape((\u001B[38;5;28mlen\u001B[39m(ypred),))\n",
      "File \u001B[1;32m~\\PycharmProjects\\HSI-BandSelection-master\\src\\HSIBandSelection\\Classification\\CNNStrategy.py:138\u001B[0m, in \u001B[0;36mCNNStrategy.evaluateFoldStrategy\u001B[1;34m(self, valx, train_y, test, means, stds, batch_size, classes, device)\u001B[0m\n\u001B[0;32m    136\u001B[0m \u001B[38;5;28;01mfor\u001B[39;00m b \u001B[38;5;129;01min\u001B[39;00m \u001B[38;5;28mrange\u001B[39m(Teva):\n\u001B[0;32m    137\u001B[0m     inds \u001B[38;5;241m=\u001B[39m indtest[b \u001B[38;5;241m*\u001B[39m batch_size:(b \u001B[38;5;241m+\u001B[39m \u001B[38;5;241m1\u001B[39m) \u001B[38;5;241m*\u001B[39m batch_size]\n\u001B[1;32m--> 138\u001B[0m     ypred_batch \u001B[38;5;241m=\u001B[39m \u001B[38;5;28;43mself\u001B[39;49m\u001B[38;5;241;43m.\u001B[39;49m\u001B[43mmodel\u001B[49m\u001B[38;5;241;43m.\u001B[39;49m\u001B[43mnetwork\u001B[49m\u001B[43m(\u001B[49m\u001B[43mtorch\u001B[49m\u001B[38;5;241;43m.\u001B[39;49m\u001B[43mfrom_numpy\u001B[49m\u001B[43m(\u001B[49m\u001B[43mvalxn\u001B[49m\u001B[43m[\u001B[49m\u001B[43minds\u001B[49m\u001B[43m]\u001B[49m\u001B[43m)\u001B[49m\u001B[38;5;241;43m.\u001B[39;49m\u001B[43mfloat\u001B[49m\u001B[43m(\u001B[49m\u001B[43m)\u001B[49m\u001B[38;5;241;43m.\u001B[39;49m\u001B[43mto\u001B[49m\u001B[43m(\u001B[49m\u001B[43mdevice\u001B[49m\u001B[43m)\u001B[49m\u001B[43m)\u001B[49m\n\u001B[0;32m    139\u001B[0m     \u001B[38;5;28;01mif\u001B[39;00m classes \u001B[38;5;241m>\u001B[39m \u001B[38;5;241m2\u001B[39m:\n\u001B[0;32m    140\u001B[0m         y_pred_softmax \u001B[38;5;241m=\u001B[39m torch\u001B[38;5;241m.\u001B[39mlog_softmax(ypred_batch, dim\u001B[38;5;241m=\u001B[39m\u001B[38;5;241m1\u001B[39m)\n",
      "File \u001B[1;32m~\\anaconda3\\envs\\HSI-BandSelection-master\\lib\\site-packages\\torch\\nn\\modules\\module.py:1553\u001B[0m, in \u001B[0;36mModule._wrapped_call_impl\u001B[1;34m(self, *args, **kwargs)\u001B[0m\n\u001B[0;32m   1551\u001B[0m     \u001B[38;5;28;01mreturn\u001B[39;00m \u001B[38;5;28mself\u001B[39m\u001B[38;5;241m.\u001B[39m_compiled_call_impl(\u001B[38;5;241m*\u001B[39margs, \u001B[38;5;241m*\u001B[39m\u001B[38;5;241m*\u001B[39mkwargs)  \u001B[38;5;66;03m# type: ignore[misc]\u001B[39;00m\n\u001B[0;32m   1552\u001B[0m \u001B[38;5;28;01melse\u001B[39;00m:\n\u001B[1;32m-> 1553\u001B[0m     \u001B[38;5;28;01mreturn\u001B[39;00m \u001B[38;5;28mself\u001B[39m\u001B[38;5;241m.\u001B[39m_call_impl(\u001B[38;5;241m*\u001B[39margs, \u001B[38;5;241m*\u001B[39m\u001B[38;5;241m*\u001B[39mkwargs)\n",
      "File \u001B[1;32m~\\anaconda3\\envs\\HSI-BandSelection-master\\lib\\site-packages\\torch\\nn\\modules\\module.py:1562\u001B[0m, in \u001B[0;36mModule._call_impl\u001B[1;34m(self, *args, **kwargs)\u001B[0m\n\u001B[0;32m   1557\u001B[0m \u001B[38;5;66;03m# If we don't have any hooks, we want to skip the rest of the logic in\u001B[39;00m\n\u001B[0;32m   1558\u001B[0m \u001B[38;5;66;03m# this function, and just call forward.\u001B[39;00m\n\u001B[0;32m   1559\u001B[0m \u001B[38;5;28;01mif\u001B[39;00m \u001B[38;5;129;01mnot\u001B[39;00m (\u001B[38;5;28mself\u001B[39m\u001B[38;5;241m.\u001B[39m_backward_hooks \u001B[38;5;129;01mor\u001B[39;00m \u001B[38;5;28mself\u001B[39m\u001B[38;5;241m.\u001B[39m_backward_pre_hooks \u001B[38;5;129;01mor\u001B[39;00m \u001B[38;5;28mself\u001B[39m\u001B[38;5;241m.\u001B[39m_forward_hooks \u001B[38;5;129;01mor\u001B[39;00m \u001B[38;5;28mself\u001B[39m\u001B[38;5;241m.\u001B[39m_forward_pre_hooks\n\u001B[0;32m   1560\u001B[0m         \u001B[38;5;129;01mor\u001B[39;00m _global_backward_pre_hooks \u001B[38;5;129;01mor\u001B[39;00m _global_backward_hooks\n\u001B[0;32m   1561\u001B[0m         \u001B[38;5;129;01mor\u001B[39;00m _global_forward_hooks \u001B[38;5;129;01mor\u001B[39;00m _global_forward_pre_hooks):\n\u001B[1;32m-> 1562\u001B[0m     \u001B[38;5;28;01mreturn\u001B[39;00m forward_call(\u001B[38;5;241m*\u001B[39margs, \u001B[38;5;241m*\u001B[39m\u001B[38;5;241m*\u001B[39mkwargs)\n\u001B[0;32m   1564\u001B[0m \u001B[38;5;28;01mtry\u001B[39;00m:\n\u001B[0;32m   1565\u001B[0m     result \u001B[38;5;241m=\u001B[39m \u001B[38;5;28;01mNone\u001B[39;00m\n",
      "File \u001B[1;32m~\\PycharmProjects\\HSI-BandSelection-master\\src\\HSIBandSelection\\Classification\\networks.py:51\u001B[0m, in \u001B[0;36mHyper3DNetLite.forward\u001B[1;34m(self, x)\u001B[0m\n\u001B[0;32m     47\u001B[0m \u001B[38;5;28;01mdef\u001B[39;00m \u001B[38;5;21mforward\u001B[39m(\u001B[38;5;28mself\u001B[39m, x):\n\u001B[0;32m     48\u001B[0m \n\u001B[0;32m     49\u001B[0m     \u001B[38;5;66;03m# 3D Feature extractor\u001B[39;00m\n\u001B[0;32m     50\u001B[0m     x \u001B[38;5;241m=\u001B[39m \u001B[38;5;28mself\u001B[39m\u001B[38;5;241m.\u001B[39mconv_layer1(x)\n\u001B[1;32m---> 51\u001B[0m     x \u001B[38;5;241m=\u001B[39m \u001B[38;5;28;43mself\u001B[39;49m\u001B[38;5;241;43m.\u001B[39;49m\u001B[43mconv_layer2\u001B[49m\u001B[43m(\u001B[49m\u001B[43mx\u001B[49m\u001B[43m)\u001B[49m\n\u001B[0;32m     52\u001B[0m     \u001B[38;5;66;03m# Reshape 3D-2D\u001B[39;00m\n\u001B[0;32m     53\u001B[0m     x \u001B[38;5;241m=\u001B[39m reshape(x, (x\u001B[38;5;241m.\u001B[39mshape[\u001B[38;5;241m0\u001B[39m], \u001B[38;5;28mself\u001B[39m\u001B[38;5;241m.\u001B[39mimg_shape[\u001B[38;5;241m1\u001B[39m] \u001B[38;5;241m*\u001B[39m \u001B[38;5;241m16\u001B[39m, \u001B[38;5;28mself\u001B[39m\u001B[38;5;241m.\u001B[39mimg_shape[\u001B[38;5;241m2\u001B[39m], \u001B[38;5;28mself\u001B[39m\u001B[38;5;241m.\u001B[39mimg_shape[\u001B[38;5;241m3\u001B[39m]))\n",
      "File \u001B[1;32m~\\anaconda3\\envs\\HSI-BandSelection-master\\lib\\site-packages\\torch\\nn\\modules\\module.py:1553\u001B[0m, in \u001B[0;36mModule._wrapped_call_impl\u001B[1;34m(self, *args, **kwargs)\u001B[0m\n\u001B[0;32m   1551\u001B[0m     \u001B[38;5;28;01mreturn\u001B[39;00m \u001B[38;5;28mself\u001B[39m\u001B[38;5;241m.\u001B[39m_compiled_call_impl(\u001B[38;5;241m*\u001B[39margs, \u001B[38;5;241m*\u001B[39m\u001B[38;5;241m*\u001B[39mkwargs)  \u001B[38;5;66;03m# type: ignore[misc]\u001B[39;00m\n\u001B[0;32m   1552\u001B[0m \u001B[38;5;28;01melse\u001B[39;00m:\n\u001B[1;32m-> 1553\u001B[0m     \u001B[38;5;28;01mreturn\u001B[39;00m \u001B[38;5;28mself\u001B[39m\u001B[38;5;241m.\u001B[39m_call_impl(\u001B[38;5;241m*\u001B[39margs, \u001B[38;5;241m*\u001B[39m\u001B[38;5;241m*\u001B[39mkwargs)\n",
      "File \u001B[1;32m~\\anaconda3\\envs\\HSI-BandSelection-master\\lib\\site-packages\\torch\\nn\\modules\\module.py:1562\u001B[0m, in \u001B[0;36mModule._call_impl\u001B[1;34m(self, *args, **kwargs)\u001B[0m\n\u001B[0;32m   1557\u001B[0m \u001B[38;5;66;03m# If we don't have any hooks, we want to skip the rest of the logic in\u001B[39;00m\n\u001B[0;32m   1558\u001B[0m \u001B[38;5;66;03m# this function, and just call forward.\u001B[39;00m\n\u001B[0;32m   1559\u001B[0m \u001B[38;5;28;01mif\u001B[39;00m \u001B[38;5;129;01mnot\u001B[39;00m (\u001B[38;5;28mself\u001B[39m\u001B[38;5;241m.\u001B[39m_backward_hooks \u001B[38;5;129;01mor\u001B[39;00m \u001B[38;5;28mself\u001B[39m\u001B[38;5;241m.\u001B[39m_backward_pre_hooks \u001B[38;5;129;01mor\u001B[39;00m \u001B[38;5;28mself\u001B[39m\u001B[38;5;241m.\u001B[39m_forward_hooks \u001B[38;5;129;01mor\u001B[39;00m \u001B[38;5;28mself\u001B[39m\u001B[38;5;241m.\u001B[39m_forward_pre_hooks\n\u001B[0;32m   1560\u001B[0m         \u001B[38;5;129;01mor\u001B[39;00m _global_backward_pre_hooks \u001B[38;5;129;01mor\u001B[39;00m _global_backward_hooks\n\u001B[0;32m   1561\u001B[0m         \u001B[38;5;129;01mor\u001B[39;00m _global_forward_hooks \u001B[38;5;129;01mor\u001B[39;00m _global_forward_pre_hooks):\n\u001B[1;32m-> 1562\u001B[0m     \u001B[38;5;28;01mreturn\u001B[39;00m forward_call(\u001B[38;5;241m*\u001B[39margs, \u001B[38;5;241m*\u001B[39m\u001B[38;5;241m*\u001B[39mkwargs)\n\u001B[0;32m   1564\u001B[0m \u001B[38;5;28;01mtry\u001B[39;00m:\n\u001B[0;32m   1565\u001B[0m     result \u001B[38;5;241m=\u001B[39m \u001B[38;5;28;01mNone\u001B[39;00m\n",
      "File \u001B[1;32m~\\anaconda3\\envs\\HSI-BandSelection-master\\lib\\site-packages\\torch\\nn\\modules\\container.py:219\u001B[0m, in \u001B[0;36mSequential.forward\u001B[1;34m(self, input)\u001B[0m\n\u001B[0;32m    217\u001B[0m \u001B[38;5;28;01mdef\u001B[39;00m \u001B[38;5;21mforward\u001B[39m(\u001B[38;5;28mself\u001B[39m, \u001B[38;5;28minput\u001B[39m):\n\u001B[0;32m    218\u001B[0m     \u001B[38;5;28;01mfor\u001B[39;00m module \u001B[38;5;129;01min\u001B[39;00m \u001B[38;5;28mself\u001B[39m:\n\u001B[1;32m--> 219\u001B[0m         \u001B[38;5;28minput\u001B[39m \u001B[38;5;241m=\u001B[39m \u001B[43mmodule\u001B[49m\u001B[43m(\u001B[49m\u001B[38;5;28;43minput\u001B[39;49m\u001B[43m)\u001B[49m\n\u001B[0;32m    220\u001B[0m     \u001B[38;5;28;01mreturn\u001B[39;00m \u001B[38;5;28minput\u001B[39m\n",
      "File \u001B[1;32m~\\anaconda3\\envs\\HSI-BandSelection-master\\lib\\site-packages\\torch\\nn\\modules\\module.py:1553\u001B[0m, in \u001B[0;36mModule._wrapped_call_impl\u001B[1;34m(self, *args, **kwargs)\u001B[0m\n\u001B[0;32m   1551\u001B[0m     \u001B[38;5;28;01mreturn\u001B[39;00m \u001B[38;5;28mself\u001B[39m\u001B[38;5;241m.\u001B[39m_compiled_call_impl(\u001B[38;5;241m*\u001B[39margs, \u001B[38;5;241m*\u001B[39m\u001B[38;5;241m*\u001B[39mkwargs)  \u001B[38;5;66;03m# type: ignore[misc]\u001B[39;00m\n\u001B[0;32m   1552\u001B[0m \u001B[38;5;28;01melse\u001B[39;00m:\n\u001B[1;32m-> 1553\u001B[0m     \u001B[38;5;28;01mreturn\u001B[39;00m \u001B[38;5;28mself\u001B[39m\u001B[38;5;241m.\u001B[39m_call_impl(\u001B[38;5;241m*\u001B[39margs, \u001B[38;5;241m*\u001B[39m\u001B[38;5;241m*\u001B[39mkwargs)\n",
      "File \u001B[1;32m~\\anaconda3\\envs\\HSI-BandSelection-master\\lib\\site-packages\\torch\\nn\\modules\\module.py:1562\u001B[0m, in \u001B[0;36mModule._call_impl\u001B[1;34m(self, *args, **kwargs)\u001B[0m\n\u001B[0;32m   1557\u001B[0m \u001B[38;5;66;03m# If we don't have any hooks, we want to skip the rest of the logic in\u001B[39;00m\n\u001B[0;32m   1558\u001B[0m \u001B[38;5;66;03m# this function, and just call forward.\u001B[39;00m\n\u001B[0;32m   1559\u001B[0m \u001B[38;5;28;01mif\u001B[39;00m \u001B[38;5;129;01mnot\u001B[39;00m (\u001B[38;5;28mself\u001B[39m\u001B[38;5;241m.\u001B[39m_backward_hooks \u001B[38;5;129;01mor\u001B[39;00m \u001B[38;5;28mself\u001B[39m\u001B[38;5;241m.\u001B[39m_backward_pre_hooks \u001B[38;5;129;01mor\u001B[39;00m \u001B[38;5;28mself\u001B[39m\u001B[38;5;241m.\u001B[39m_forward_hooks \u001B[38;5;129;01mor\u001B[39;00m \u001B[38;5;28mself\u001B[39m\u001B[38;5;241m.\u001B[39m_forward_pre_hooks\n\u001B[0;32m   1560\u001B[0m         \u001B[38;5;129;01mor\u001B[39;00m _global_backward_pre_hooks \u001B[38;5;129;01mor\u001B[39;00m _global_backward_hooks\n\u001B[0;32m   1561\u001B[0m         \u001B[38;5;129;01mor\u001B[39;00m _global_forward_hooks \u001B[38;5;129;01mor\u001B[39;00m _global_forward_pre_hooks):\n\u001B[1;32m-> 1562\u001B[0m     \u001B[38;5;28;01mreturn\u001B[39;00m forward_call(\u001B[38;5;241m*\u001B[39margs, \u001B[38;5;241m*\u001B[39m\u001B[38;5;241m*\u001B[39mkwargs)\n\u001B[0;32m   1564\u001B[0m \u001B[38;5;28;01mtry\u001B[39;00m:\n\u001B[0;32m   1565\u001B[0m     result \u001B[38;5;241m=\u001B[39m \u001B[38;5;28;01mNone\u001B[39;00m\n",
      "File \u001B[1;32m~\\anaconda3\\envs\\HSI-BandSelection-master\\lib\\site-packages\\torch\\nn\\modules\\activation.py:104\u001B[0m, in \u001B[0;36mReLU.forward\u001B[1;34m(self, input)\u001B[0m\n\u001B[0;32m    103\u001B[0m \u001B[38;5;28;01mdef\u001B[39;00m \u001B[38;5;21mforward\u001B[39m(\u001B[38;5;28mself\u001B[39m, \u001B[38;5;28minput\u001B[39m: Tensor) \u001B[38;5;241m-\u001B[39m\u001B[38;5;241m>\u001B[39m Tensor:\n\u001B[1;32m--> 104\u001B[0m     \u001B[38;5;28;01mreturn\u001B[39;00m \u001B[43mF\u001B[49m\u001B[38;5;241;43m.\u001B[39;49m\u001B[43mrelu\u001B[49m\u001B[43m(\u001B[49m\u001B[38;5;28;43minput\u001B[39;49m\u001B[43m,\u001B[49m\u001B[43m \u001B[49m\u001B[43minplace\u001B[49m\u001B[38;5;241;43m=\u001B[39;49m\u001B[38;5;28;43mself\u001B[39;49m\u001B[38;5;241;43m.\u001B[39;49m\u001B[43minplace\u001B[49m\u001B[43m)\u001B[49m\n",
      "File \u001B[1;32m~\\anaconda3\\envs\\HSI-BandSelection-master\\lib\\site-packages\\torch\\nn\\functional.py:1500\u001B[0m, in \u001B[0;36mrelu\u001B[1;34m(input, inplace)\u001B[0m\n\u001B[0;32m   1498\u001B[0m     result \u001B[38;5;241m=\u001B[39m torch\u001B[38;5;241m.\u001B[39mrelu_(\u001B[38;5;28minput\u001B[39m)\n\u001B[0;32m   1499\u001B[0m \u001B[38;5;28;01melse\u001B[39;00m:\n\u001B[1;32m-> 1500\u001B[0m     result \u001B[38;5;241m=\u001B[39m \u001B[43mtorch\u001B[49m\u001B[38;5;241;43m.\u001B[39;49m\u001B[43mrelu\u001B[49m\u001B[43m(\u001B[49m\u001B[38;5;28;43minput\u001B[39;49m\u001B[43m)\u001B[49m\n\u001B[0;32m   1501\u001B[0m \u001B[38;5;28;01mreturn\u001B[39;00m result\n",
      "\u001B[1;31mKeyboardInterrupt\u001B[0m: "
     ]
    }
   ],
   "execution_count": 12
  },
  {
   "cell_type": "code",
   "metadata": {
    "id": "HEvtF6hy7Nr6"
   },
   "source": [
    "print('The best metrics were obtained using a VIF value of {}'.format(VIF_best))\n",
    "print('The pre-selected bands obtained by IBRA wew {}'.format(IBRA_best))\n",
    "print('The pre-selected bands obtained by IBRA+GSS wew {}'.format(GSS_best))\n",
    "print('The best classification metrics were as follows:')\n",
    "print(stats_best)"
   ],
   "outputs": [],
   "execution_count": null
  },
  {
   "metadata": {},
   "cell_type": "code",
   "source": "",
   "outputs": [],
   "execution_count": null
  }
 ],
 "metadata": {
  "accelerator": "GPU",
  "colab": {
   "gpuType": "T4",
   "provenance": []
  },
  "kernelspec": {
   "display_name": "Python 3 (ipykernel)",
   "language": "python",
   "name": "python3"
  },
  "language_info": {
   "codemirror_mode": {
    "name": "ipython",
    "version": 3
   },
   "file_extension": ".py",
   "mimetype": "text/x-python",
   "name": "python",
   "nbconvert_exporter": "python",
   "pygments_lexer": "ipython3",
   "version": "3.9.6"
  }
 },
 "nbformat": 4,
 "nbformat_minor": 4
}
