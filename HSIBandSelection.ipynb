{
 "cells": [
  {
   "cell_type": "markdown",
   "metadata": {
    "id": "4zDnCDaKUoqP"
   },
   "source": [
    "# Hyperspectral Band Selection\n",
    "\n",
    "In this notebook, we'll demonstrate how to use our Inter-band redundancy method (IBRA) and the [Greedy Spectral Selection](https://www.mdpi.com/2072-4292/13/18/3649) (GSS) for hyperspectral band selection. IBRA can also be used in combination with Principal Component Analysis (PCA) and Partial Least Squares (PLS) for dimensionality reduction.\n",
    "\n",
    "## Installation\n",
    "\n",
    "Execute `!pip install git+https://github.com/NISL-MSU/HSI-BandSelection`\n",
    "\n"
   ]
  },
  {
   "metadata": {},
   "cell_type": "markdown",
   "source": ""
  },
  {
   "metadata": {
    "ExecuteTime": {
     "end_time": "2024-09-10T07:35:42.560685Z",
     "start_time": "2024-09-10T07:35:42.541421Z"
    }
   },
   "cell_type": "code",
   "source": [
    "import torch\n",
    "torch.cuda.is_available()"
   ],
   "outputs": [
    {
     "data": {
      "text/plain": [
       "True"
      ]
     },
     "execution_count": 7,
     "metadata": {},
     "output_type": "execute_result"
    }
   ],
   "execution_count": 7
  },
  {
   "cell_type": "code",
   "metadata": {
    "colab": {
     "base_uri": "https://localhost:8080/"
    },
    "id": "LpT8OosiUk4q",
    "outputId": "5d905535-060f-48b8-b37d-d98f7d43ec05",
    "ExecuteTime": {
     "end_time": "2024-09-10T07:35:42.575966Z",
     "start_time": "2024-09-10T07:35:42.562848Z"
    }
   },
   "source": [
    "# !pip install -q git+https://github.com/NISL-MSU/HSI-BandSelection\n",
    "import warnings\n",
    "warnings.filterwarnings(\"ignore\")"
   ],
   "outputs": [],
   "execution_count": 8
  },
  {
   "cell_type": "markdown",
   "metadata": {
    "id": "PAvo_sJuVH5o"
   },
   "source": [
    "## Load your data\n",
    "\n",
    "You can bring your own HSI classification dataset. Format the input data as a set of image data cubes of shape $(N, w, h, b)$, where $N$ is the number of data cubes, $w$ and $h$ are the width and the height of the cubes, and $b$ is the number of spectral bands. You could use the `createImageCubes` method, provided [here](https://github.com/NISL-MSU/HSI-BandSelection/blob/master/src/HSIBandSelection/readSAT.py#L47), as a reference to format your data.\n",
    "\n",
    "In this example, we will load the Indian Pines dataset, which is an image with shape `(145, 145, 200)`."
   ]
  },
  {
   "cell_type": "code",
   "metadata": {
    "colab": {
     "base_uri": "https://localhost:8080/"
    },
    "id": "D-Hgf37-VG98",
    "outputId": "c686c513-ab52-4a12-90c2-0099afe449b3",
    "ExecuteTime": {
     "end_time": "2024-09-16T06:43:24.548644Z",
     "start_time": "2024-09-16T06:41:05.189440Z"
    }
   },
   "source": [
    "from HSIBandSelection.readSAT import loadata, createImageCubes\n",
    "# X, Y = loadata(name='IP')\n",
    "# X, Y = loadata(name='SA')\n",
    "X, Y = loadata(name='fx17_Fianl')\n",
    "print('Initial image shape: ' + str(X.shape))\n",
    "\n",
    "X, Y = createImageCubes(X, Y, window=5)\n",
    "print('Processed dataset shape: ' + str(X.shape))"
   ],
   "outputs": [
    {
     "name": "stdout",
     "output_type": "stream",
     "text": [
      "Initial image shape: (2548, 640, 224)\n",
      "Processed dataset shape: (386036, 5, 5, 224)\n"
     ]
    }
   ],
   "execution_count": 10
  },
  {
   "cell_type": "markdown",
   "metadata": {
    "id": "xy57K-xukuWw"
   },
   "source": [
    "In this case, we loaded a HS image saved in our package. It doesn't matter where you bring the data from, you only need to provide the $X$ (input data) and $Y$ (target labels) matrices. In addition, assign your dataset a name; otherwise, it will be called `temp`. With these three elements, we create a data object:"
   ]
  },
  {
   "cell_type": "code",
   "metadata": {
    "id": "AbDs3T5YlVhK",
    "ExecuteTime": {
     "end_time": "2024-09-10T07:35:45.343075Z",
     "start_time": "2024-09-10T07:35:45.330733Z"
    }
   },
   "source": [
    "from HSIBandSelection.utils import Dataset\n",
    "# dataset = Dataset(train_x=X, train_y=Y, name='IP')\n",
    "dataset = Dataset(train_x=X, train_y=Y, name='SA')"
   ],
   "outputs": [],
   "execution_count": 10
  },
  {
   "cell_type": "markdown",
   "metadata": {
    "id": "HSWSjz_6nKRv"
   },
   "source": [
    "## Execute the Band Selection / Dimensionality Reduction Algorithm\n",
    "\n",
    "We'll use the `SelectBands` class. **Parameters**:\n",
    "\n",
    "*   `dataset`: utils.Dataset object\n",
    "*   `method`: Method name. Options: 'IBRA', 'GSS' (IBRA+GSS), 'PCA' (IBRA+PCA), and 'PLS' (IBRA+PLS)\n",
    "*   `classifier`: Classifier type. Options: 'CNN' (if data is 2D), 'ANN', 'RF', 'SVM'. *Default:* 'CNN'\n",
    "*   `nbands`: How many spectral bands you want to select or reduce to. *Default:* 5\n",
    "*   `transform`: If True, the final selected bands will suffer a Gaussian transformation to simulate being a multispectral band. *Default:* False\n",
    "*   `average`: If True, average consecutive bands to reduce the initial total # of bands to half. *Default:* False\n",
    "*   `epochs`: Number of iterations used to train the NN models. *Default:* 150\n",
    "*   `batch_size`: Batch size used to train the NN models. *Default:* 128\n",
    "*   `scratch`: If True, execute the IBRA process from scratch and replace previously saved results. *Default:* True\n",
    "\n",
    "\n",
    "\n",
    "\n",
    "\n",
    "\n",
    "\n",
    "\n",
    "\n",
    "\n"
   ]
  },
  {
   "metadata": {},
   "cell_type": "markdown",
   "source": ""
  },
  {
   "cell_type": "code",
   "metadata": {
    "id": "6spOOMfK0sgn",
    "ExecuteTime": {
     "end_time": "2024-09-10T07:36:06.183191Z",
     "start_time": "2024-09-10T07:35:45.346067Z"
    }
   },
   "source": [
    "from HSIBandSelection.SelectBands import SelectBands\n",
    "selector = SelectBands(dataset=dataset, method='GSS', nbands=5)\n",
    "print('Selected bands: ' + str(selector))"
   ],
   "outputs": [
    {
     "ename": "KeyboardInterrupt",
     "evalue": "",
     "output_type": "error",
     "traceback": [
      "\u001B[1;31m---------------------------------------------------------------------------\u001B[0m",
      "\u001B[1;31mKeyboardInterrupt\u001B[0m                         Traceback (most recent call last)",
      "Cell \u001B[1;32mIn[11], line 2\u001B[0m\n\u001B[0;32m      1\u001B[0m \u001B[38;5;28;01mfrom\u001B[39;00m \u001B[38;5;21;01mHSIBandSelection\u001B[39;00m\u001B[38;5;21;01m.\u001B[39;00m\u001B[38;5;21;01mSelectBands\u001B[39;00m \u001B[38;5;28;01mimport\u001B[39;00m SelectBands\n\u001B[1;32m----> 2\u001B[0m selector \u001B[38;5;241m=\u001B[39m \u001B[43mSelectBands\u001B[49m\u001B[43m(\u001B[49m\u001B[43mdataset\u001B[49m\u001B[38;5;241;43m=\u001B[39;49m\u001B[43mdataset\u001B[49m\u001B[43m,\u001B[49m\u001B[43m \u001B[49m\u001B[43mmethod\u001B[49m\u001B[38;5;241;43m=\u001B[39;49m\u001B[38;5;124;43m'\u001B[39;49m\u001B[38;5;124;43mGSS\u001B[39;49m\u001B[38;5;124;43m'\u001B[39;49m\u001B[43m,\u001B[49m\u001B[43m \u001B[49m\u001B[43mnbands\u001B[49m\u001B[38;5;241;43m=\u001B[39;49m\u001B[38;5;241;43m5\u001B[39;49m\u001B[43m)\u001B[49m\n\u001B[0;32m      3\u001B[0m \u001B[38;5;28mprint\u001B[39m(\u001B[38;5;124m'\u001B[39m\u001B[38;5;124mSelected bands: \u001B[39m\u001B[38;5;124m'\u001B[39m \u001B[38;5;241m+\u001B[39m \u001B[38;5;28mstr\u001B[39m(selector))\n",
      "File \u001B[1;32m~\\PycharmProjects\\HSI-BandSelection-master\\src\\HSIBandSelection\\SelectBands.py:37\u001B[0m, in \u001B[0;36mSelectBands.__init__\u001B[1;34m(self, dataset, method, classifier, nbands, transform, average, epochs, batch_size, scratch)\u001B[0m\n\u001B[0;32m     34\u001B[0m \u001B[38;5;28mself\u001B[39m\u001B[38;5;241m.\u001B[39mdataset \u001B[38;5;241m=\u001B[39m dataset\n\u001B[0;32m     36\u001B[0m \u001B[38;5;66;03m# Pre-process data for IBRA\u001B[39;00m\n\u001B[1;32m---> 37\u001B[0m IBRAdataset \u001B[38;5;241m=\u001B[39m \u001B[43mprocess_data\u001B[49m\u001B[43m(\u001B[49m\u001B[43mdataset\u001B[49m\u001B[43m,\u001B[49m\u001B[43m \u001B[49m\u001B[43mflag_average\u001B[49m\u001B[38;5;241;43m=\u001B[39;49m\u001B[43maverage\u001B[49m\u001B[43m,\u001B[49m\u001B[43m \u001B[49m\u001B[43mtransform\u001B[49m\u001B[38;5;241;43m=\u001B[39;49m\u001B[38;5;28;43;01mFalse\u001B[39;49;00m\u001B[43m,\u001B[49m\u001B[43m \u001B[49m\u001B[43mnormalization\u001B[49m\u001B[38;5;241;43m=\u001B[39;49m\u001B[38;5;28;43;01mTrue\u001B[39;49;00m\u001B[43m)\u001B[49m\n\u001B[0;32m     39\u001B[0m \u001B[38;5;66;03m# Initialize IBRA\u001B[39;00m\n\u001B[0;32m     40\u001B[0m \u001B[38;5;28mself\u001B[39m\u001B[38;5;241m.\u001B[39minterB \u001B[38;5;241m=\u001B[39m InterBandRedundancy(dataset\u001B[38;5;241m=\u001B[39mIBRAdataset, printProcess\u001B[38;5;241m=\u001B[39m\u001B[38;5;28;01mFalse\u001B[39;00m)\n",
      "File \u001B[1;32m~\\PycharmProjects\\HSI-BandSelection-master\\src\\HSIBandSelection\\utils.py:156\u001B[0m, in \u001B[0;36mprocess_data\u001B[1;34m(dataset, flag_average, selection, transform, normalization)\u001B[0m\n\u001B[0;32m    154\u001B[0m \u001B[38;5;66;03m# Apply normalization to the entire dataset (used for the IBRA method)\u001B[39;00m\n\u001B[0;32m    155\u001B[0m \u001B[38;5;28;01mif\u001B[39;00m normalization:\n\u001B[1;32m--> 156\u001B[0m     train_x, _, _ \u001B[38;5;241m=\u001B[39m \u001B[43mnormalize\u001B[49m\u001B[43m(\u001B[49m\u001B[43mtrain_x\u001B[49m\u001B[43m)\u001B[49m  \u001B[38;5;66;03m# Later, during training, we will normalize each training set\u001B[39;00m\n\u001B[0;32m    158\u001B[0m \u001B[38;5;28;01mreturn\u001B[39;00m Dataset(train_x, train_y, indexes, dataset\u001B[38;5;241m.\u001B[39mname)\n",
      "File \u001B[1;32m~\\PycharmProjects\\HSI-BandSelection-master\\src\\HSIBandSelection\\utils.py:-1\u001B[0m, in \u001B[0;36mnormalize\u001B[1;34m(trainx)\u001B[0m\n\u001B[0;32m      0\u001B[0m <Error retrieving source code with stack_data see ipython/ipython#13598>\n",
      "\u001B[1;31mKeyboardInterrupt\u001B[0m: "
     ]
    }
   ],
   "execution_count": 11
  },
  {
   "cell_type": "markdown",
   "metadata": {
    "id": "1nFxKPiL0sym"
   },
   "source": [
    "From the SelectBands class, we call the `run_selection` method. **Parameters**:\n",
    "\n",
    "*   `init_vf`: Initial Variance Inflation Factor threshold (used for IBRA). *Default: 12*\n",
    "*   `final_vf`: Final Variance Inflation Factor threshold (used for IBRA). *Default: 5*\n",
    "\n",
    "\n",
    "\n",
    "**Return**:\n",
    "\n",
    "If the selected method is IBRA:\n",
    "\n",
    "*   `VIF_best`: The VIF threshold at which the best results were obtained\n",
    "*   `IBRA_best`: The best pre-selected bands using Iner-band redundancy\n",
    "*   `stats_best`: The best performance metric values obtained after 5x2 CV using the selected bands\n",
    "\n",
    "If the selected method is GSS:\n",
    "\n",
    "*   `VIF_best`: The VIF threshold at which the best results were obtained\n",
    "*   `IBRA_best`: The best pre-selected bands using Iner-band redundancy\n",
    "*   `GSS_best`: The best combination of bands obtained using GSS\n",
    "*   `stats_best`: The best performance metric values obtained after 5x2 CV using the selected bands\n",
    "\n",
    "If the selected method is PCA or PLS:\n",
    "\n",
    "*   `VIF_best`: The VIF threshold at which the best results were obtained\n",
    "*   `IBRA_best`: The best pre-selected bands using Iner-band redundancy\n",
    "*   `reduced_dataset`: The reduced dataset after applying PCA or PLS to the pre-selected bands\n",
    "*   `stats_best`: The best performance metric values obtained after 5x2 CV using the reduced bands\n",
    "\n",
    "**IMPORTANT**: This code is implemented using Pytorch. If you're running this on Google Colab, change the runtime type to GPU to accelerate the training process!"
   ]
  },
  {
   "cell_type": "code",
   "metadata": {
    "colab": {
     "base_uri": "https://localhost:8080/",
     "height": 391
    },
    "id": "jmC_oR_f0tBO",
    "outputId": "872c7180-4ba3-490a-f6f3-23038798452b"
   },
   "source": [
    "VIF_best, IBRA_best, GSS_best, stats_best =selector.run_selection(init_vf=11, final_vf=9)"
   ],
   "outputs": [],
   "execution_count": null
  },
  {
   "cell_type": "code",
   "metadata": {
    "id": "HEvtF6hy7Nr6"
   },
   "source": [
    "print('The best metrics were obtained using a VIF value of {}'.format(VIF_best))\n",
    "print('The pre-selected bands obtained by IBRA wew {}'.format(IBRA_best))\n",
    "print('The pre-selected bands obtained by IBRA+GSS wew {}'.format(GSS_best))\n",
    "print('The best classification metrics were as follows:')\n",
    "print(stats_best)"
   ],
   "outputs": [],
   "execution_count": null
  },
  {
   "metadata": {},
   "cell_type": "code",
   "source": "",
   "outputs": [],
   "execution_count": null
  }
 ],
 "metadata": {
  "accelerator": "GPU",
  "colab": {
   "gpuType": "T4",
   "provenance": []
  },
  "kernelspec": {
   "display_name": "Python 3 (ipykernel)",
   "language": "python",
   "name": "python3"
  },
  "language_info": {
   "codemirror_mode": {
    "name": "ipython",
    "version": 3
   },
   "file_extension": ".py",
   "mimetype": "text/x-python",
   "name": "python",
   "nbconvert_exporter": "python",
   "pygments_lexer": "ipython3",
   "version": "3.9.6"
  }
 },
 "nbformat": 4,
 "nbformat_minor": 4
}
